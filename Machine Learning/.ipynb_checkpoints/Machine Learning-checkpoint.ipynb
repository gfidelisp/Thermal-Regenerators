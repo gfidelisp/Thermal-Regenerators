{
 "cells": [
  {
   "cell_type": "code",
   "execution_count": 1,
   "id": "cb428505",
   "metadata": {},
   "outputs": [
    {
     "name": "stderr",
     "output_type": "stream",
     "text": [
      "C:\\Users\\Guilherme\\Anaconda3\\lib\\site-packages\\xgboost\\compat.py:36: FutureWarning: pandas.Int64Index is deprecated and will be removed from pandas in a future version. Use pandas.Index with the appropriate dtype instead.\n",
      "  from pandas import MultiIndex, Int64Index\n"
     ]
    }
   ],
   "source": [
    "import numpy as np\n",
    "import pandas as pd\n",
    "import matplotlib as mpl\n",
    "import matplotlib.pyplot as plt\n",
    "\n",
    "from sklearn.model_selection import train_test_split\n",
    "from sklearn.preprocessing import PolynomialFeatures as Poly\n",
    "from sklearn.pipeline import make_pipeline\n",
    "from sklearn.metrics import r2_score\n",
    "from sklearn.model_selection import GridSearchCV\n",
    "\n",
    "from sklearn.linear_model import Ridge\n",
    "from sklearn.neighbors import KNeighborsRegressor\n",
    "from sklearn.ensemble import RandomForestRegressor\n",
    "from sklearn.svm import SVR\n",
    "from xgboost.sklearn import XGBRegressor\n",
    "\n",
    "import joblib\n",
    "\n",
    "mpl.style.use('default')\n",
    "plt.rc('text',usetex = True)\n",
    "plt.rc('font', family='serif',size = 12)"
   ]
  },
  {
   "cell_type": "code",
   "execution_count": 2,
   "id": "2d2283ac",
   "metadata": {},
   "outputs": [],
   "source": [
    "def plot_Wm(y_train,y_pred_train,y_test,y_pred_test, Method):\n",
    "    Aux = np.linspace(10,60)\n",
    "    plt.figure()\n",
    "    plt.plot(Aux,0.9*Aux,'k--')\n",
    "    plt.plot(Aux,1.1*Aux,'k--')\n",
    "    plt.plot(y_train,y_pred_train,'o',color = '#1f77b4', mfc='none', label = 'Training Set')\n",
    "    plt.plot(y_test,y_pred_test,'x' ,color = '#2ca02c', mfc='none',label = 'Test Set',)\n",
    "    plt.text(23, 17, '$- 10 \\%$', fontsize=12)\n",
    "    plt.text(19, 28, '$+ 10 \\%$', fontsize=12)\n",
    "    plt.legend()\n",
    "    plt.ylabel(r' $\\dot{W}_\\mathrm{AMR,Mag}$ [W] - ' + Method )\n",
    "    plt.xlabel(r' $\\dot{W}_\\mathrm{AMR,Mag}$ [W] - Numerical Solution')\n",
    "    plt.grid(linestyle='dotted')\n",
    "    plt.savefig('Plots/Wm - '+Method +'.png', format = 'png', bbox_inches='tight',) "
   ]
  },
  {
   "cell_type": "code",
   "execution_count": 3,
   "id": "b86d9035",
   "metadata": {},
   "outputs": [],
   "source": [
    "def plot_Qc(y_train,y_pred_train,y_test,y_pred_test, Method):\n",
    "    Aux = np.linspace(10,300)\n",
    "    plt.figure()\n",
    "    plt.plot(Aux,0.9*Aux,'k--')\n",
    "    plt.plot(Aux,1.1*Aux,'k--')\n",
    "    plt.plot(y_train,y_pred_train,'o',color = '#1f77b4', mfc='none', label = 'Training Set')\n",
    "    plt.plot(y_test,y_pred_test,'x' ,color = '#2ca02c', mfc='none',label = 'Test Set')\n",
    "    plt.text(140, 180, '$+ 10 \\%$', fontsize=12)\n",
    "    plt.text(150, 120, '$- 10 \\%$', fontsize=12)\n",
    "    plt.ylabel(r' $\\dot{Q}_\\mathrm{C}$ [W] - ' + Method )\n",
    "    plt.xlabel(r' $\\dot{Q}_\\mathrm{C}$ [W] - Target')\n",
    "    plt.legend()\n",
    "    plt.grid(linestyle='dotted')\n",
    "    plt.savefig('Plots/Qc - '+Method +'.png', format = 'png', bbox_inches='tight',) "
   ]
  },
  {
   "cell_type": "markdown",
   "id": "ebfad5c8",
   "metadata": {},
   "source": [
    "### Reading the Input Parameteres "
   ]
  },
  {
   "cell_type": "code",
   "execution_count": 4,
   "id": "433b6fdf",
   "metadata": {},
   "outputs": [],
   "source": [
    "Inputs = pd.read_excel('Data/Data_AMR.xlsx',index_col = 0) # Input Data"
   ]
  },
  {
   "cell_type": "markdown",
   "id": "66827bab",
   "metadata": {},
   "source": [
    "# Train-Test Split"
   ]
  },
  {
   "cell_type": "code",
   "execution_count": 5,
   "id": "2dd528a2",
   "metadata": {},
   "outputs": [],
   "source": [
    "X = Inputs[['W','H','f','mf','B','L','Th','Tc']]\n",
    "y = Inputs[['Qc','Wm']]\n",
    "X_train, X_test, y_train, y_test = train_test_split(X, \n",
    "                                                    y,\n",
    "                                                    test_size = 0.2,\n",
    "                                                    random_state = 42)  "
   ]
  },
  {
   "cell_type": "code",
   "execution_count": 6,
   "id": "58e5f356",
   "metadata": {},
   "outputs": [],
   "source": [
    "def ML_Model(X_train,y_train,X_test,y_test,Algo,Obj):\n",
    "    \n",
    "    if Algo == 'Ridge1':\n",
    "        model = make_pipeline(Poly(degree=1, interaction_only = False),Ridge(alpha=0.5))\n",
    "        param = {}\n",
    "        \n",
    "    elif Algo == 'Ridge2':\n",
    "        model = make_pipeline(Poly(degree=2, interaction_only = False),Ridge(alpha=0.5))\n",
    "        param = {}\n",
    "        \n",
    "    elif Algo == 'Ridge3':\n",
    "        model = make_pipeline(Poly(degree=3, interaction_only = False),Ridge(alpha=0.5))\n",
    "        param = {}\n",
    "        \n",
    "    elif Algo == 'Ridge4':\n",
    "        model = make_pipeline(Poly(degree=4, interaction_only = False),Ridge(alpha=0.5))\n",
    "        param = {}\n",
    "        \n",
    "    elif Algo == 'KNN':\n",
    "        param = {'n_neighbors': [1,5,10,20,50,100],\n",
    "                 'leaf_size': [1,5,10,20,50,100],\n",
    "                 'p': [1,3,5],\n",
    "                 'weights': ('uniform', 'distance'),\n",
    "                 'metric': ('minkowski', 'chebyshev'),\n",
    "                }\n",
    "        model = KNeighborsRegressor(algorithm='auto')\n",
    "    \n",
    "    elif Algo == 'RF':\n",
    "        param = {'n_estimators': [5,25,50,100],\n",
    "                 'max_features': ['auto', 'sqrt'],\n",
    "                 'max_depth': [5,10,50],\n",
    "                 'min_samples_split': [2,6,10],\n",
    "                 'min_samples_leaf' : [1,3,5]\n",
    "                }\n",
    "        model = RandomForestRegressor(random_state=42)\n",
    "    \n",
    "    elif Algo =='SVR':\n",
    "        param = {'kernel':['linear','poly'],\n",
    "                 'C':[1,10],\n",
    "                 'gamma': [1e-2, 1e-1],\n",
    "                 'epsilon':[0.1, 0.2]\n",
    "                  }\n",
    "        model = SVR()\n",
    "    \n",
    "    elif Algo == 'XGBoost':\n",
    "        param = {'objective':['reg:squarederror'],\n",
    "                 'learning_rate': [0.01, 0.02],\n",
    "                 'max_depth': [5, 6, 7],\n",
    "                 'min_child_weight': [1,3],\n",
    "                 'alpha' :[1,5],\n",
    "                 'gamma': [1,2],\n",
    "                 'subsample': [0.5, 0.75],\n",
    "                 'colsample_bytree': [0.75,1],\n",
    "                 'n_estimators': [500, 1000]\n",
    "                }\n",
    "        model = XGBRegressor()\n",
    "        \n",
    "    model = GridSearchCV(model,\n",
    "                         param_grid=param,\n",
    "                         scoring = 'r2',\n",
    "                         verbose = 1\n",
    "                        )\n",
    "    if Obj == 'Qc':\n",
    "        model.fit(X_train, y_train['Qc'])\n",
    "        print('The coefficient of determination for '+ Obj +' Training Set using '+ Algo +' is '+\n",
    "              str(r2_score(y_train[Obj],model.predict(X_train).T)))\n",
    "        print('The coefficient of determination for '+ Obj +' Test Set using '+ Algo +' is '+\n",
    "              str(r2_score(y_test[Obj], model.predict(X_test).T)))\n",
    "        \n",
    "        plot_Qc(y_train['Qc'], \n",
    "                model.predict(X_train).T,\n",
    "                y_test['Qc'],\n",
    "                model.predict(X_test).T,\n",
    "                Algo)\n",
    "        \n",
    "    elif Obj =='Wm':\n",
    "        model.fit(X_train, y_train['Wm'])\n",
    "        \n",
    "        print('The coefficient of determination for' + Obj +' Training Set using '+ Algo +' is '+\n",
    "              str(r2_score(y_train[Obj],model.predict(X_train).T)))\n",
    "        print('The coefficient of determination for '+ Obj +' Test Set using '+ Algo +' is '+\n",
    "              str(r2_score(y_test[Obj], model.predict(X_test).T)))\n",
    "        plot_Wm(y_train['Wm'],\n",
    "                model.predict(X_train).T,\n",
    "                y_test['Wm'],\n",
    "                model.predict(X_test).T,\n",
    "                Algo)\n",
    "        \n",
    "    print(Obj,Algo)\n",
    "    joblib.dump(model, 'Models/'+Obj+'_'+Algo+'.pkl')\n",
    "    return r2_score(y_train[Obj],model.predict(X_train).T),r2_score(y_test[Obj], model.predict(X_test).T)"
   ]
  },
  {
   "cell_type": "code",
   "execution_count": 7,
   "id": "13eefee5",
   "metadata": {},
   "outputs": [],
   "source": [
    "Algo = ['Ridge1','Ridge2','Ridge3','Ridge4','KNN','RF','SVR','XGBoost']"
   ]
  },
  {
   "cell_type": "code",
   "execution_count": null,
   "id": "9740c2de",
   "metadata": {},
   "outputs": [
    {
     "name": "stdout",
     "output_type": "stream",
     "text": [
      "Fitting 5 folds for each of 1 candidates, totalling 5 fits\n",
      "The coefficient of determination for Qc Training Set using Ridge1 is 0.8885910303422555\n",
      "The coefficient of determination for Qc Test Set using Ridge1 is 0.877878706472577\n",
      "Qc Ridge1\n",
      "Fitting 5 folds for each of 1 candidates, totalling 5 fits\n",
      "The coefficient of determination forWm Training Set using Ridge1 is 0.9745759124709458\n",
      "The coefficient of determination for Wm Test Set using Ridge1 is 0.9726272926115422\n",
      "Wm Ridge1\n",
      "Fitting 5 folds for each of 1 candidates, totalling 5 fits\n",
      "The coefficient of determination for Qc Training Set using Ridge2 is 0.990924262340603\n",
      "The coefficient of determination for Qc Test Set using Ridge2 is 0.9929569605455664\n",
      "Qc Ridge2\n",
      "Fitting 5 folds for each of 1 candidates, totalling 5 fits\n",
      "The coefficient of determination forWm Training Set using Ridge2 is 0.9990548914674248\n",
      "The coefficient of determination for Wm Test Set using Ridge2 is 0.999092060047069\n",
      "Wm Ridge2\n",
      "Fitting 5 folds for each of 1 candidates, totalling 5 fits\n",
      "The coefficient of determination for Qc Training Set using Ridge3 is 0.9986845457871729\n",
      "The coefficient of determination for Qc Test Set using Ridge3 is 0.9979257904970291\n"
     ]
    },
    {
     "name": "stderr",
     "output_type": "stream",
     "text": [
      "C:\\Users\\Guilherme\\Anaconda3\\lib\\site-packages\\sklearn\\linear_model\\_ridge.py:157: LinAlgWarning: Ill-conditioned matrix (rcond=1.52909e-20): result may not be accurate.\n",
      "  return linalg.solve(A, Xy, sym_pos=True, overwrite_a=True).T\n",
      "C:\\Users\\Guilherme\\Anaconda3\\lib\\site-packages\\sklearn\\linear_model\\_ridge.py:157: LinAlgWarning: Ill-conditioned matrix (rcond=1.43943e-20): result may not be accurate.\n",
      "  return linalg.solve(A, Xy, sym_pos=True, overwrite_a=True).T\n",
      "C:\\Users\\Guilherme\\Anaconda3\\lib\\site-packages\\sklearn\\linear_model\\_ridge.py:157: LinAlgWarning: Ill-conditioned matrix (rcond=1.55404e-20): result may not be accurate.\n",
      "  return linalg.solve(A, Xy, sym_pos=True, overwrite_a=True).T\n",
      "C:\\Users\\Guilherme\\Anaconda3\\lib\\site-packages\\sklearn\\linear_model\\_ridge.py:157: LinAlgWarning: Ill-conditioned matrix (rcond=1.45742e-20): result may not be accurate.\n",
      "  return linalg.solve(A, Xy, sym_pos=True, overwrite_a=True).T\n",
      "C:\\Users\\Guilherme\\Anaconda3\\lib\\site-packages\\sklearn\\linear_model\\_ridge.py:157: LinAlgWarning: Ill-conditioned matrix (rcond=1.51456e-20): result may not be accurate.\n",
      "  return linalg.solve(A, Xy, sym_pos=True, overwrite_a=True).T\n",
      "C:\\Users\\Guilherme\\Anaconda3\\lib\\site-packages\\sklearn\\linear_model\\_ridge.py:157: LinAlgWarning: Ill-conditioned matrix (rcond=1.30743e-20): result may not be accurate.\n",
      "  return linalg.solve(A, Xy, sym_pos=True, overwrite_a=True).T\n"
     ]
    },
    {
     "name": "stdout",
     "output_type": "stream",
     "text": [
      "Qc Ridge3\n",
      "Fitting 5 folds for each of 1 candidates, totalling 5 fits\n",
      "The coefficient of determination forWm Training Set using Ridge3 is 0.999799987136918\n",
      "The coefficient of determination for Wm Test Set using Ridge3 is 0.9995876064444003\n"
     ]
    },
    {
     "name": "stderr",
     "output_type": "stream",
     "text": [
      "C:\\Users\\Guilherme\\Anaconda3\\lib\\site-packages\\sklearn\\linear_model\\_ridge.py:157: LinAlgWarning: Ill-conditioned matrix (rcond=1.52909e-20): result may not be accurate.\n",
      "  return linalg.solve(A, Xy, sym_pos=True, overwrite_a=True).T\n",
      "C:\\Users\\Guilherme\\Anaconda3\\lib\\site-packages\\sklearn\\linear_model\\_ridge.py:157: LinAlgWarning: Ill-conditioned matrix (rcond=1.43943e-20): result may not be accurate.\n",
      "  return linalg.solve(A, Xy, sym_pos=True, overwrite_a=True).T\n",
      "C:\\Users\\Guilherme\\Anaconda3\\lib\\site-packages\\sklearn\\linear_model\\_ridge.py:157: LinAlgWarning: Ill-conditioned matrix (rcond=1.55404e-20): result may not be accurate.\n",
      "  return linalg.solve(A, Xy, sym_pos=True, overwrite_a=True).T\n",
      "C:\\Users\\Guilherme\\Anaconda3\\lib\\site-packages\\sklearn\\linear_model\\_ridge.py:157: LinAlgWarning: Ill-conditioned matrix (rcond=1.45742e-20): result may not be accurate.\n",
      "  return linalg.solve(A, Xy, sym_pos=True, overwrite_a=True).T\n",
      "C:\\Users\\Guilherme\\Anaconda3\\lib\\site-packages\\sklearn\\linear_model\\_ridge.py:157: LinAlgWarning: Ill-conditioned matrix (rcond=1.51456e-20): result may not be accurate.\n",
      "  return linalg.solve(A, Xy, sym_pos=True, overwrite_a=True).T\n",
      "C:\\Users\\Guilherme\\Anaconda3\\lib\\site-packages\\sklearn\\linear_model\\_ridge.py:157: LinAlgWarning: Ill-conditioned matrix (rcond=1.30743e-20): result may not be accurate.\n",
      "  return linalg.solve(A, Xy, sym_pos=True, overwrite_a=True).T\n"
     ]
    },
    {
     "name": "stdout",
     "output_type": "stream",
     "text": [
      "Wm Ridge3\n",
      "Fitting 5 folds for each of 1 candidates, totalling 5 fits\n",
      "The coefficient of determination for Qc Training Set using Ridge4 is 0.9881337394028719\n",
      "The coefficient of determination for Qc Test Set using Ridge4 is 0.9794580562597117\n"
     ]
    },
    {
     "name": "stderr",
     "output_type": "stream",
     "text": [
      "C:\\Users\\Guilherme\\Anaconda3\\lib\\site-packages\\sklearn\\linear_model\\_ridge.py:196: UserWarning: Singular matrix in solving dual problem. Using least-squares solution instead.\n",
      "  warnings.warn(\n",
      "C:\\Users\\Guilherme\\Anaconda3\\lib\\site-packages\\sklearn\\linear_model\\_ridge.py:196: UserWarning: Singular matrix in solving dual problem. Using least-squares solution instead.\n",
      "  warnings.warn(\n",
      "C:\\Users\\Guilherme\\Anaconda3\\lib\\site-packages\\sklearn\\linear_model\\_ridge.py:196: UserWarning: Singular matrix in solving dual problem. Using least-squares solution instead.\n",
      "  warnings.warn(\n",
      "C:\\Users\\Guilherme\\Anaconda3\\lib\\site-packages\\sklearn\\linear_model\\_ridge.py:196: UserWarning: Singular matrix in solving dual problem. Using least-squares solution instead.\n",
      "  warnings.warn(\n",
      "C:\\Users\\Guilherme\\Anaconda3\\lib\\site-packages\\sklearn\\linear_model\\_ridge.py:196: UserWarning: Singular matrix in solving dual problem. Using least-squares solution instead.\n",
      "  warnings.warn(\n",
      "C:\\Users\\Guilherme\\Anaconda3\\lib\\site-packages\\sklearn\\linear_model\\_ridge.py:196: UserWarning: Singular matrix in solving dual problem. Using least-squares solution instead.\n",
      "  warnings.warn(\n"
     ]
    },
    {
     "name": "stdout",
     "output_type": "stream",
     "text": [
      "Qc Ridge4\n",
      "Fitting 5 folds for each of 1 candidates, totalling 5 fits\n",
      "The coefficient of determination forWm Training Set using Ridge4 is 0.9970961973466593\n",
      "The coefficient of determination for Wm Test Set using Ridge4 is 0.996448041196299\n"
     ]
    },
    {
     "name": "stderr",
     "output_type": "stream",
     "text": [
      "C:\\Users\\Guilherme\\Anaconda3\\lib\\site-packages\\sklearn\\linear_model\\_ridge.py:196: UserWarning: Singular matrix in solving dual problem. Using least-squares solution instead.\n",
      "  warnings.warn(\n",
      "C:\\Users\\Guilherme\\Anaconda3\\lib\\site-packages\\sklearn\\linear_model\\_ridge.py:196: UserWarning: Singular matrix in solving dual problem. Using least-squares solution instead.\n",
      "  warnings.warn(\n",
      "C:\\Users\\Guilherme\\Anaconda3\\lib\\site-packages\\sklearn\\linear_model\\_ridge.py:196: UserWarning: Singular matrix in solving dual problem. Using least-squares solution instead.\n",
      "  warnings.warn(\n",
      "C:\\Users\\Guilherme\\Anaconda3\\lib\\site-packages\\sklearn\\linear_model\\_ridge.py:196: UserWarning: Singular matrix in solving dual problem. Using least-squares solution instead.\n",
      "  warnings.warn(\n",
      "C:\\Users\\Guilherme\\Anaconda3\\lib\\site-packages\\sklearn\\linear_model\\_ridge.py:196: UserWarning: Singular matrix in solving dual problem. Using least-squares solution instead.\n",
      "  warnings.warn(\n",
      "C:\\Users\\Guilherme\\Anaconda3\\lib\\site-packages\\sklearn\\linear_model\\_ridge.py:196: UserWarning: Singular matrix in solving dual problem. Using least-squares solution instead.\n",
      "  warnings.warn(\n"
     ]
    },
    {
     "name": "stdout",
     "output_type": "stream",
     "text": [
      "Wm Ridge4\n",
      "Fitting 5 folds for each of 432 candidates, totalling 2160 fits\n",
      "The coefficient of determination for Qc Training Set using KNN is 1.0\n",
      "The coefficient of determination for Qc Test Set using KNN is 0.2372938794303978\n",
      "Qc KNN\n",
      "Fitting 5 folds for each of 432 candidates, totalling 2160 fits\n",
      "The coefficient of determination forWm Training Set using KNN is 1.0\n",
      "The coefficient of determination for Wm Test Set using KNN is 0.6048255875078221\n",
      "Wm KNN\n",
      "Fitting 5 folds for each of 216 candidates, totalling 1080 fits\n",
      "The coefficient of determination for Qc Training Set using RF is 0.9839878757843912\n",
      "The coefficient of determination for Qc Test Set using RF is 0.8758957465634372\n",
      "Qc RF\n",
      "Fitting 5 folds for each of 216 candidates, totalling 1080 fits\n",
      "The coefficient of determination forWm Training Set using RF is 0.9905655985648824\n",
      "The coefficient of determination for Wm Test Set using RF is 0.9249878319113043\n",
      "Wm RF\n",
      "Fitting 5 folds for each of 16 candidates, totalling 80 fits\n"
     ]
    }
   ],
   "source": [
    "R2_Qc = []\n",
    "R2_Wm = []\n",
    "for i in Algo:\n",
    "        R2_Qc.append(ML_Model(X_train,y_train,X_test,y_test,str(i),'Qc'))\n",
    "        R2_Wm.append(ML_Model(X_train,y_train,X_test,y_test,str(i),'Wm'))"
   ]
  },
  {
   "cell_type": "code",
   "execution_count": null,
   "id": "91778a96",
   "metadata": {},
   "outputs": [],
   "source": [
    "pd.DataFrame(R2_Qc, \n",
    "             columns = ['Train','Test'],\n",
    "             index = Algo\n",
    "            ).to_excel('R2_Qc.xlsx')\n",
    "\n",
    "pd.DataFrame(R2_Wm, \n",
    "             columns = ['Train','Test'],\n",
    "             index = Algo\n",
    "            ).to_excel('R2_Wm.xlsx')"
   ]
  }
 ],
 "metadata": {
  "kernelspec": {
   "display_name": "Python 3 (ipykernel)",
   "language": "python",
   "name": "python3"
  },
  "language_info": {
   "codemirror_mode": {
    "name": "ipython",
    "version": 3
   },
   "file_extension": ".py",
   "mimetype": "text/x-python",
   "name": "python",
   "nbconvert_exporter": "python",
   "pygments_lexer": "ipython3",
   "version": "3.8.12"
  }
 },
 "nbformat": 4,
 "nbformat_minor": 5
}
