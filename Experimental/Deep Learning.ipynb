{
 "cells": [
  {
   "cell_type": "markdown",
   "id": "d15cb112",
   "metadata": {
    "tags": []
   },
   "source": [
    "# Deep Learning in Active Magnetic Regenerators"
   ]
  },
  {
   "cell_type": "markdown",
   "id": "555c8227",
   "metadata": {},
   "source": [
    "This Notebook presents the results for the application of Neural Networks in the prediction of the Cooling Capacity ($\\dot{Q}_\\mathrm{C}$ or $Qc$) and the Magnetization Power ($\\dot{W}_\\mathrm{m}$ or $Wm$) of Active Magnetic Regenerators. The Dataset consists in 532 points coming from numerical simulations."
   ]
  },
  {
   "cell_type": "markdown",
   "id": "f4f599ee",
   "metadata": {},
   "source": [
    "### Importing the Modules"
   ]
  },
  {
   "cell_type": "code",
   "execution_count": 1,
   "id": "3c66d8c0",
   "metadata": {},
   "outputs": [
    {
     "ename": "ModuleNotFoundError",
     "evalue": "No module named 'joblib'",
     "output_type": "error",
     "traceback": [
      "\u001b[1;31m---------------------------------------------------------------------------\u001b[0m",
      "\u001b[1;31mModuleNotFoundError\u001b[0m                       Traceback (most recent call last)",
      "\u001b[1;32mi:\\GitHub\\Thermal Regenerators\\Experimental\\Deep Learning.ipynb Célula: 4\u001b[0m in \u001b[0;36m<cell line: 3>\u001b[1;34m()\u001b[0m\n\u001b[0;32m      <a href='vscode-notebook-cell:/i%3A/GitHub/Thermal%20Regenerators/Experimental/Deep%20Learning.ipynb#W3sZmlsZQ%3D%3D?line=0'>1</a>\u001b[0m \u001b[39mimport\u001b[39;00m \u001b[39mpathlib\u001b[39;00m\n\u001b[1;32m----> <a href='vscode-notebook-cell:/i%3A/GitHub/Thermal%20Regenerators/Experimental/Deep%20Learning.ipynb#W3sZmlsZQ%3D%3D?line=2'>3</a>\u001b[0m \u001b[39mimport\u001b[39;00m \u001b[39mjoblib\u001b[39;00m\n\u001b[0;32m      <a href='vscode-notebook-cell:/i%3A/GitHub/Thermal%20Regenerators/Experimental/Deep%20Learning.ipynb#W3sZmlsZQ%3D%3D?line=3'>4</a>\u001b[0m \u001b[39mimport\u001b[39;00m \u001b[39mkeras_tuner\u001b[39;00m \u001b[39mas\u001b[39;00m \u001b[39mkt\u001b[39;00m\n\u001b[0;32m      <a href='vscode-notebook-cell:/i%3A/GitHub/Thermal%20Regenerators/Experimental/Deep%20Learning.ipynb#W3sZmlsZQ%3D%3D?line=4'>5</a>\u001b[0m \u001b[39mimport\u001b[39;00m \u001b[39mmatplotlib\u001b[39;00m \u001b[39mas\u001b[39;00m \u001b[39mmpl\u001b[39;00m\n",
      "\u001b[1;31mModuleNotFoundError\u001b[0m: No module named 'joblib'"
     ]
    }
   ],
   "source": [
    "import pathlib\n",
    "\n",
    "import joblib\n",
    "import keras_tuner as kt\n",
    "import matplotlib as mpl\n",
    "import matplotlib.pyplot as plt\n",
    "import numpy as np\n",
    "import pandas as pd\n",
    "import tensorflow as tf\n",
    "from sklearn.metrics import r2_score\n",
    "from sklearn.model_selection import train_test_split\n",
    "from sklearn.preprocessing import StandardScaler\n",
    "from tensorflow import keras\n",
    "from tensorflow.keras import initializers\n",
    "from tensorflow.keras.callbacks import EarlyStopping\n",
    "from tensorflow.keras.layers import (Activation, BatchNormalization, Dense,\n",
    "                                     Dropout, Input)\n",
    "from tensorflow.keras.models import Model, Sequential, load_model\n",
    "from tensorflow.keras.optimizers import Adam\n",
    "\n",
    "tf.config.optimizer.set_jit(True)\n",
    "mpl.style.use('default')\n",
    "plt.rc('text',usetex = True)\n",
    "plt.rc('font', family='serif',size = 12)"
   ]
  },
  {
   "cell_type": "markdown",
   "id": "6135a2df",
   "metadata": {},
   "source": [
    "### Plotting Functions "
   ]
  },
  {
   "cell_type": "code",
   "execution_count": null,
   "id": "9ea8caff",
   "metadata": {},
   "outputs": [],
   "source": [
    "def plot_results(y_train,y_pred_train,y_test,y_pred_test,Obj):\n",
    "    \n",
    "    plt.figure()\n",
    "    plt.plot(y_train,y_pred_train,'.',markersize = 7,color = '#1f77b4', mfc='none', label = 'Training Set')\n",
    "    plt.plot(y_test,y_pred_test,'x' ,markersize = 5, color = '#2ca02c', mfc='none',label = 'Test Set',)\n",
    "    \n",
    "    if Obj == 'Qc [W]':\n",
    "        Aux = np.linspace(0,80)\n",
    "        plt.plot(Aux,0.95*Aux,'k--')\n",
    "        plt.plot(Aux,1.05*Aux,'k--')\n",
    "        #plt.text(140, 180, '$+ 5 \\%$', fontsize=12)\n",
    "        #plt.text(150, 120, '$- 5 \\%$', fontsize=12)\n",
    "        plt.legend()\n",
    "        plt.ylabel(r' $\\dot{Q}_\\mathrm{C}$ [W] - ANN' )\n",
    "        plt.xlabel(r' $\\dot{Q}_\\mathrm{C}$ [W] - Numerical Solution')\n",
    "        plt.grid(linestyle='dotted')\n",
    "        plt.savefig('Plots/Qc/Qc - NN.png', format = 'png', bbox_inches='tight') \n",
    "    \n",
    "    elif Obj == 'Wm':\n",
    "        Aux = np.linspace(10,60)\n",
    "        plt.plot(Aux,0.95*Aux,'k--')\n",
    "        plt.plot(Aux,1.05*Aux,'k--')\n",
    "        plt.text(23, 17, '$- 5 \\%$', fontsize=12)\n",
    "        plt.text(19, 28, '$+ 5 \\%$', fontsize=12)\n",
    "        plt.legend()\n",
    "        plt.ylabel(r' $\\dot{W}_\\mathrm{AMR,mag}$ [W] - ANN' )\n",
    "        plt.xlabel(r' $\\dot{W}_\\mathrm{AMR,mag}$ [W] - Numerical Solution')\n",
    "        plt.grid(linestyle='dotted')\n",
    "        plt.savefig('Plots/Wm/Wm - NN.png', format = 'png', bbox_inches='tight') "
   ]
  },
  {
   "cell_type": "markdown",
   "id": "ebfad5c8",
   "metadata": {},
   "source": [
    "### Reading the Input Parameteres "
   ]
  },
  {
   "cell_type": "markdown",
   "id": "6c7afc02",
   "metadata": {},
   "source": [
    "The independent variable are the Width ($H$), Height ($H$) and Length ($L$) of the porous medium, the frequency ($f$) and mass flow rate ($mf$) of the Active Magnetic Regenerator, the Inlet Temperatures at the Hot ($Th$) and Cold ($Tc$) ends and the Applied Magnetic Field ($B$).\n",
    "\n",
    "The dependent variables are the Cooling Capacity ($Qc$) and Magnetization Power ($Wm$)."
   ]
  },
  {
   "cell_type": "code",
   "execution_count": null,
   "id": "433b6fdf",
   "metadata": {},
   "outputs": [],
   "source": [
    "Inputs = pd.read_excel('Data/Data_AMR_Exp.xlsx',index_col = 0) # Input Data\n",
    "X = Inputs[Inputs.columns[:-4]]\n",
    "y = Inputs[['Qc [W]']]"
   ]
  },
  {
   "cell_type": "markdown",
   "id": "66827bab",
   "metadata": {},
   "source": [
    "### Train-Test Split"
   ]
  },
  {
   "cell_type": "code",
   "execution_count": null,
   "id": "0b13ce5c",
   "metadata": {},
   "outputs": [],
   "source": [
    "Qc_min = 1"
   ]
  },
  {
   "cell_type": "code",
   "execution_count": null,
   "id": "ab704af3",
   "metadata": {},
   "outputs": [],
   "source": [
    "X = X[(y['Qc [W]'] > Qc_min) & (X['Test'] != 'MCR')]\n",
    "y = y[(y['Qc [W]'] > Qc_min) & (X['Test'] != 'MCR')]"
   ]
  },
  {
   "cell_type": "code",
   "execution_count": null,
   "id": "2dd528a2",
   "metadata": {},
   "outputs": [],
   "source": [
    "X_train, X_test, y_train, y_test = train_test_split(X, \n",
    "                                                    y,\n",
    "                                                    test_size = 0.2,\n",
    "                                                    stratify = X['Test'],\n",
    "                                                    random_state = 42)\n",
    "X_train = X_train.drop(['Test'],axis = 1)\n",
    "X_test = X_test.drop(['Test'],axis = 1)"
   ]
  },
  {
   "cell_type": "markdown",
   "id": "3f012151",
   "metadata": {},
   "source": [
    "### Scaling the Features"
   ]
  },
  {
   "cell_type": "code",
   "execution_count": null,
   "id": "13ac2889-0d9a-40f2-8d0c-6f15e38acfea",
   "metadata": {},
   "outputs": [],
   "source": [
    "sc = joblib.load('Models/AMR_Scaler.pkl')\n",
    "X_train = sc.fit_transform(X_train)\n",
    "X_test = sc.transform(X_test)"
   ]
  },
  {
   "cell_type": "code",
   "execution_count": null,
   "id": "f363b8df",
   "metadata": {},
   "outputs": [],
   "source": [
    "#sc = StandardScaler()\n",
    "#X_train = sc.fit_transform(X_train)\n",
    "#X_test = sc.transform(X_test)"
   ]
  },
  {
   "cell_type": "code",
   "execution_count": null,
   "id": "b30e25f3",
   "metadata": {},
   "outputs": [
    {
     "data": {
      "text/plain": [
       "['Models/AMR_Scaler.pkl']"
      ]
     },
     "execution_count": 30,
     "metadata": {},
     "output_type": "execute_result"
    }
   ],
   "source": [
    "joblib.dump(sc, 'Models/AMR_Scaler.pkl') "
   ]
  },
  {
   "cell_type": "markdown",
   "id": "a2ae7985",
   "metadata": {},
   "source": [
    "### Building the Model"
   ]
  },
  {
   "cell_type": "code",
   "execution_count": null,
   "id": "a7349548",
   "metadata": {},
   "outputs": [],
   "source": [
    "def Build(hp):\n",
    "    \n",
    "    \n",
    "    #Grouping a stack of Layers in Model\n",
    "    model = tf.keras.Sequential()\n",
    "    model.add(BatchNormalization())\n",
    "\n",
    "    #Kernel Initialization\n",
    "    initializer = tf.keras.initializers.HeNormal()\n",
    "\n",
    "    # Adding the Layers\n",
    "    # The number of layers, neurons in each one and activation functions are going to be tunned \n",
    "    for i in range(hp.Int('layers', 0, 5)):\n",
    "        model.add(tf.keras.layers.Dense(units=hp.Int('units_' + str(i), 1, 2001, step=20),\n",
    "                                        activation=hp.Choice('act_' + str(i), ['relu','sigmoid','selu','tanh']),\n",
    "                                        kernel_initializer = initializer\n",
    "                                        )\n",
    "        )\n",
    "        #Applying a Batch Normalization Layer after Dense Layer\n",
    "        model.add(BatchNormalization())\n",
    "\n",
    "        \n",
    "    # Adding a final Layer \n",
    "    model.add(tf.keras.layers.Dense(1, activation='selu'))\n",
    "    \n",
    "    # Compiling the Model with the Adam optimization algorithm\n",
    "    model.compile(optimizer=Adam(),\n",
    "                            loss=\"mean_squared_error\",\n",
    "                            metrics = ['accuracy']\n",
    "                            )\n",
    "    return model"
   ]
  },
  {
   "cell_type": "markdown",
   "id": "8323d781",
   "metadata": {},
   "source": [
    "### Batch Optimization"
   ]
  },
  {
   "cell_type": "markdown",
   "id": "d35377ce",
   "metadata": {},
   "source": [
    "Overriding run_trial in MyTuner (https://kegui.medium.com/how-to-tune-the-number-of-epochs-and-batch-size-in-keras-tuner-c2ab2d40878d)"
   ]
  },
  {
   "cell_type": "code",
   "execution_count": null,
   "id": "c468b8cb",
   "metadata": {},
   "outputs": [],
   "source": [
    "class MyTuner(kt.Hyperband):\n",
    "    def run_trial(self, trial, *args, **kwargs):\n",
    "        kwargs['batch_size'] = trial.hyperparameters.Int('batch_size', 1, 501, step=5)\n",
    "        super(MyTuner, self).run_trial(trial, *args, **kwargs)"
   ]
  },
  {
   "cell_type": "markdown",
   "id": "cd89db08",
   "metadata": {},
   "source": [
    "### Defining the Tuner"
   ]
  },
  {
   "cell_type": "code",
   "execution_count": null,
   "id": "b763ee5e",
   "metadata": {},
   "outputs": [],
   "source": [
    "def NeuNet(X_train,y_train,max_epochs,Obj):\n",
    "    \n",
    "    # Defining the Tuner\n",
    "    tuner = MyTuner(Build,\n",
    "                    objective = 'val_loss',\n",
    "                    max_epochs = max_epochs,\n",
    "                    directory= 'KT_Dir',\n",
    "                    project_name='KT_Hyperband_' + Obj,\n",
    "                    executions_per_trial = 1,   \n",
    "    )\n",
    "    \n",
    "    # Hyperparameter Optimization\n",
    "    tuner.search(X_train,\n",
    "                 y_train[Obj],\n",
    "                 epochs=max_epochs,\n",
    "                 #callbacks=[EarlyStopping('val_loss', patience=5)],\n",
    "                 verbose=1,\n",
    "                 validation_split=0.2)\n",
    "    \n",
    "  \n",
    "    # Trainning the Best Model\n",
    "    best_model = tuner.get_best_models()[0]\n",
    "    best_model.build(X_train.shape)\n",
    "    best_model.fit(X_train,\n",
    "                   y_train[Obj], \n",
    "                   epochs=max_epochs,\n",
    "                   batch_size=tuner.get_best_hyperparameters(num_trials=1)[0].get('batch_size')\n",
    "    )\n",
    "    best_model.summary()\n",
    "    \n",
    "    # Saving the Model\n",
    "    best_model.save('Models/'+Obj+'/'+ Obj +'_NN.h5', include_optimizer=False)\n",
    "    best_model.save('Models/'+Obj+'/'+ Obj +'_NN', include_optimizer=False)\n",
    "    best_model.save_weights('Models/'+Obj+'/'+ Obj +'_weights.h5')\n",
    "    #joblib.dump(best_model, 'Models/'+Obj+'/'+ Obj +'_NN.pkl')\n",
    "    \n",
    "     #R2 for the Training Set\n",
    "    print('The coefficient of determination for '+ Obj +' Training Set using Neural Networks is '+\n",
    "          str(r2_score(y_train[Obj], best_model.predict(X_train))))\n",
    "\n",
    "    # R2 for the Test Set\n",
    "    print('The coefficient of determination for '+ Obj +' Test Set using Neural Networks is '+\n",
    "          str(r2_score(y_test[Obj], best_model.predict(X_test)))) \n",
    "\n",
    "    # Plotting the Results\n",
    "    plot_results(y_train[Obj], best_model.predict(X_train), y_test[Obj], best_model.predict(X_test), Obj) "
   ]
  },
  {
   "cell_type": "markdown",
   "id": "75c3b087",
   "metadata": {},
   "source": [
    "### Defining a Test Function"
   ]
  },
  {
   "cell_type": "code",
   "execution_count": null,
   "id": "54ae3688",
   "metadata": {},
   "outputs": [],
   "source": [
    "def Test(X_train,y_train,Obj, Scal):\n",
    "    \n",
    "    Model = load_model('Models/'+Obj+'/'+ Obj +'_NN.h5', compile = False)\n",
    "    Model.summary()\n",
    "    Model.summary()\n",
    "    for i, layer in enumerate (Model.layers):\n",
    "        print (i, layer)\n",
    "        try:\n",
    "            print (\"    \",layer.activation)\n",
    "        except AttributeError:\n",
    "            print('   no activation attribute')\n",
    "            \n",
    "    #R2 for the Training Set\n",
    "    print('The coefficient of determination for '+ Obj +' Training Set using Neural Networks is '+\n",
    "          str(r2_score(y_train[Obj], Model.predict(Scal.transform(X_train)))))\n",
    "\n",
    "    # R2 for the Test Set\n",
    "    print('The coefficient of determination for '+ Obj +' Test Set using Neural Networks is '+\n",
    "          str(r2_score(y_test[Obj], Model.predict(Scal.transform(X_test))))) \n",
    "\n",
    "    # Plotting the Results\n",
    "    plot_results(y_train[Obj], Model.predict(Scal.transform(X_train)), y_test[Obj], Model.predict(Scal.transform(X_test)), Obj) "
   ]
  },
  {
   "cell_type": "code",
   "execution_count": null,
   "id": "c0f8fbff",
   "metadata": {},
   "outputs": [],
   "source": [
    "def Test_lite(X_train,y_train,Obj, Scal):\n",
    "    \n",
    "    Model = load_model('Models/'+Obj+'/'+ Obj +'_NN.h5', compile = False)\n",
    "    Model.summary()\n",
    "    for i, layer in enumerate (Model.layers):\n",
    "        print (i, layer)\n",
    "        try:\n",
    "            print (\"    \",layer.activation)\n",
    "        except AttributeError:\n",
    "            print('   no activation attribute')\n",
    "    converter = tf.lite.TFLiteConverter.from_keras_model(Model)\n",
    "    tflite_model = converter.convert()\n",
    "    tflite_models_dir = pathlib.Path(\"/\")\n",
    "    tflite_models_dir.mkdir(exist_ok=True, parents=True)\n",
    "    tflite_model_file = tflite_models_dir/\"mnist_model.tflite\"\n",
    "    tflite_model_file.write_bytes(tflite_model)\n",
    "    \n",
    "    interpreter = tf.lite.Interpreter(model_path=str(tflite_model_file))\n",
    "    interpreter.allocate_tensors()\n",
    "    \n",
    "    input_index = interpreter.get_input_details()[0][\"index\"]\n",
    "    output_index = interpreter.get_output_details()[0][\"index\"]\n",
    "    \n",
    "    Train_Lite = []\n",
    "    for i in range(np.shape(X_train)[0]):\n",
    "        interpreter.set_tensor(input_index, Scaller.transform(X_train)[i].reshape(-1,1).T)\n",
    "        interpreter.invoke()\n",
    "        Train_Lite.append(interpreter.get_tensor(output_index)[0][0])\n",
    "        \n",
    "    Test_Lite = []\n",
    "    for i in range(np.shape(X_test)[0]):\n",
    "        interpreter.set_tensor(input_index, Scaller.transform(X_test)[i].reshape(-1,1).T)\n",
    "        interpreter.invoke()\n",
    "        Test_Lite.append(interpreter.get_tensor(output_index)[0][0])\n",
    "    \n",
    "    #R2 for the Training Set\n",
    "    print('The coefficient of determination for '+ Obj +' Training Set using Neural Networks is '+\n",
    "          str(r2_score(y_train[Obj], Train_Lite)))\n",
    "\n",
    "    # R2 for the Test Set\n",
    "    print('The coefficient of determination for '+ Obj +' Test Set using Neural Networks is '+\n",
    "          str(r2_score(y_test[Obj], Test_Lite)))    \n",
    "    \n",
    "    # Plotting the Results\n",
    "    plot_results(y_train[Obj], Train_Lite, y_test[Obj], Test_Lite, Obj) "
   ]
  },
  {
   "cell_type": "markdown",
   "id": "11483304",
   "metadata": {},
   "source": [
    "### Training the Models"
   ]
  },
  {
   "cell_type": "code",
   "execution_count": null,
   "id": "fa1e349f",
   "metadata": {
    "scrolled": true
   },
   "outputs": [
    {
     "name": "stdout",
     "output_type": "stream",
     "text": [
      "Trial 30 Complete [00h 00m 58s]\n",
      "val_loss: 9.218450546264648\n",
      "\n",
      "Best val_loss So Far: 7.511434555053711\n",
      "Total elapsed time: 00h 14m 18s\n"
     ]
    },
    {
     "name": "stdout",
     "output_type": "stream",
     "text": [
      "\n",
      "Search: Running Trial #31\n",
      "\n",
      "Hyperparameter    |Value             |Best Value So Far \n",
      "layers            |2                 |4                 \n",
      "batch_size        |41                |26                \n",
      "units_0           |921               |241               \n",
      "act_0             |selu              |selu              \n",
      "units_1           |1481              |1201              \n",
      "act_1             |tanh              |selu              \n",
      "units_2           |521               |1701              \n",
      "act_2             |tanh              |relu              \n",
      "units_3           |781               |1501              \n",
      "act_3             |selu              |tanh              \n",
      "units_4           |1521              |1341              \n",
      "act_4             |selu              |sigmoid           \n",
      "tuner/epochs      |334               |334               \n",
      "tuner/initial_e...|112               |112               \n",
      "tuner/bracket     |6                 |6                 \n",
      "tuner/round       |5                 |5                 \n",
      "tuner/trial_id    |cfe522e393cdeb5...|e6774739959ecde...\n",
      "\n",
      "Epoch 113/334\n",
      "9/9 [==============================] - 1s 72ms/step - loss: 133.6655 - accuracy: 0.0000e+00 - val_loss: 110.0477 - val_accuracy: 0.0000e+00\n",
      "Epoch 114/334\n",
      "9/9 [==============================] - 0s 54ms/step - loss: 95.5159 - accuracy: 0.0000e+00 - val_loss: 98.8660 - val_accuracy: 0.0000e+00\n",
      "Epoch 115/334\n",
      "9/9 [==============================] - 1s 60ms/step - loss: 85.6165 - accuracy: 0.0000e+00 - val_loss: 92.7337 - val_accuracy: 0.0000e+00\n",
      "Epoch 116/334\n",
      "9/9 [==============================] - 0s 48ms/step - loss: 72.4665 - accuracy: 0.0000e+00 - val_loss: 84.7881 - val_accuracy: 0.0000e+00\n",
      "Epoch 117/334\n",
      "9/9 [==============================] - 0s 13ms/step - loss: 60.9400 - accuracy: 0.0000e+00 - val_loss: 85.2934 - val_accuracy: 0.0000e+00\n",
      "Epoch 118/334\n",
      "9/9 [==============================] - 0s 53ms/step - loss: 60.3756 - accuracy: 0.0000e+00 - val_loss: 68.1662 - val_accuracy: 0.0000e+00\n",
      "Epoch 119/334\n",
      "9/9 [==============================] - 0s 55ms/step - loss: 46.4926 - accuracy: 0.0000e+00 - val_loss: 58.4856 - val_accuracy: 0.0000e+00\n",
      "Epoch 120/334\n",
      "9/9 [==============================] - 0s 16ms/step - loss: 51.6158 - accuracy: 0.0000e+00 - val_loss: 67.5887 - val_accuracy: 0.0000e+00\n",
      "Epoch 121/334\n",
      "9/9 [==============================] - 0s 51ms/step - loss: 51.6935 - accuracy: 0.0000e+00 - val_loss: 56.0839 - val_accuracy: 0.0000e+00\n",
      "Epoch 122/334\n",
      "9/9 [==============================] - 0s 47ms/step - loss: 42.9305 - accuracy: 0.0000e+00 - val_loss: 45.7041 - val_accuracy: 0.0000e+00\n",
      "Epoch 123/334\n",
      "9/9 [==============================] - 0s 52ms/step - loss: 44.6653 - accuracy: 0.0000e+00 - val_loss: 42.5430 - val_accuracy: 0.0000e+00\n",
      "Epoch 124/334\n",
      "9/9 [==============================] - 0s 54ms/step - loss: 39.2316 - accuracy: 0.0000e+00 - val_loss: 38.5150 - val_accuracy: 0.0000e+00\n",
      "Epoch 125/334\n",
      "9/9 [==============================] - 0s 13ms/step - loss: 42.9977 - accuracy: 0.0000e+00 - val_loss: 41.9402 - val_accuracy: 0.0000e+00\n",
      "Epoch 126/334\n",
      "9/9 [==============================] - 0s 13ms/step - loss: 44.2138 - accuracy: 0.0000e+00 - val_loss: 41.8210 - val_accuracy: 0.0000e+00\n",
      "Epoch 127/334\n",
      "9/9 [==============================] - 0s 53ms/step - loss: 41.7665 - accuracy: 0.0000e+00 - val_loss: 36.8714 - val_accuracy: 0.0000e+00\n",
      "Epoch 128/334\n",
      "9/9 [==============================] - 0s 13ms/step - loss: 39.6231 - accuracy: 0.0000e+00 - val_loss: 40.7594 - val_accuracy: 0.0000e+00\n",
      "Epoch 129/334\n",
      "9/9 [==============================] - 0s 48ms/step - loss: 42.4955 - accuracy: 0.0000e+00 - val_loss: 35.6750 - val_accuracy: 0.0000e+00\n",
      "Epoch 130/334\n",
      "9/9 [==============================] - 0s 45ms/step - loss: 35.9351 - accuracy: 0.0000e+00 - val_loss: 32.1410 - val_accuracy: 0.0000e+00\n",
      "Epoch 131/334\n",
      "9/9 [==============================] - 0s 50ms/step - loss: 42.6333 - accuracy: 0.0000e+00 - val_loss: 30.8457 - val_accuracy: 0.0000e+00\n",
      "Epoch 132/334\n",
      "9/9 [==============================] - 0s 52ms/step - loss: 34.1034 - accuracy: 0.0000e+00 - val_loss: 27.3041 - val_accuracy: 0.0000e+00\n",
      "Epoch 133/334\n",
      "9/9 [==============================] - 0s 14ms/step - loss: 35.6406 - accuracy: 0.0000e+00 - val_loss: 31.1227 - val_accuracy: 0.0000e+00\n",
      "Epoch 134/334\n",
      "9/9 [==============================] - 0s 14ms/step - loss: 32.4754 - accuracy: 0.0000e+00 - val_loss: 28.2442 - val_accuracy: 0.0000e+00\n",
      "Epoch 135/334\n",
      "9/9 [==============================] - 1s 60ms/step - loss: 33.2605 - accuracy: 0.0000e+00 - val_loss: 26.9685 - val_accuracy: 0.0000e+00\n",
      "Epoch 136/334\n",
      "9/9 [==============================] - 0s 54ms/step - loss: 36.2025 - accuracy: 0.0000e+00 - val_loss: 24.0913 - val_accuracy: 0.0000e+00\n",
      "Epoch 137/334\n",
      "9/9 [==============================] - 0s 13ms/step - loss: 35.3500 - accuracy: 0.0000e+00 - val_loss: 26.4017 - val_accuracy: 0.0000e+00\n",
      "Epoch 138/334\n",
      "9/9 [==============================] - 0s 13ms/step - loss: 30.8835 - accuracy: 0.0000e+00 - val_loss: 31.1504 - val_accuracy: 0.0000e+00\n",
      "Epoch 139/334\n",
      "9/9 [==============================] - 0s 14ms/step - loss: 48.3039 - accuracy: 0.0000e+00 - val_loss: 28.9972 - val_accuracy: 0.0000e+00\n",
      "Epoch 140/334\n",
      "9/9 [==============================] - 0s 20ms/step - loss: 36.6571 - accuracy: 0.0000e+00 - val_loss: 34.6831 - val_accuracy: 0.0000e+00\n",
      "Epoch 141/334\n",
      "9/9 [==============================] - 0s 19ms/step - loss: 36.9553 - accuracy: 0.0000e+00 - val_loss: 27.7388 - val_accuracy: 0.0000e+00\n",
      "Epoch 142/334\n",
      "9/9 [==============================] - 0s 16ms/step - loss: 32.1992 - accuracy: 0.0000e+00 - val_loss: 26.3602 - val_accuracy: 0.0000e+00\n",
      "Epoch 143/334\n",
      "9/9 [==============================] - 0s 17ms/step - loss: 34.8268 - accuracy: 0.0000e+00 - val_loss: 24.8926 - val_accuracy: 0.0000e+00\n",
      "Epoch 144/334\n",
      "9/9 [==============================] - 0s 14ms/step - loss: 37.4326 - accuracy: 0.0000e+00 - val_loss: 28.3177 - val_accuracy: 0.0000e+00\n",
      "Epoch 145/334\n",
      "9/9 [==============================] - 0s 50ms/step - loss: 38.1078 - accuracy: 0.0000e+00 - val_loss: 23.9353 - val_accuracy: 0.0000e+00\n",
      "Epoch 146/334\n",
      "9/9 [==============================] - 0s 13ms/step - loss: 36.5271 - accuracy: 0.0000e+00 - val_loss: 26.5208 - val_accuracy: 0.0000e+00\n",
      "Epoch 147/334\n",
      "9/9 [==============================] - 0s 15ms/step - loss: 30.6883 - accuracy: 0.0000e+00 - val_loss: 25.4408 - val_accuracy: 0.0000e+00\n",
      "Epoch 148/334\n",
      "9/9 [==============================] - 1s 59ms/step - loss: 28.4265 - accuracy: 0.0000e+00 - val_loss: 23.0364 - val_accuracy: 0.0000e+00\n",
      "Epoch 149/334\n",
      "9/9 [==============================] - 0s 14ms/step - loss: 32.0036 - accuracy: 0.0000e+00 - val_loss: 25.3220 - val_accuracy: 0.0000e+00\n",
      "Epoch 150/334\n",
      "9/9 [==============================] - 0s 19ms/step - loss: 27.5355 - accuracy: 0.0000e+00 - val_loss: 34.1406 - val_accuracy: 0.0000e+00\n",
      "Epoch 151/334\n",
      "9/9 [==============================] - 0s 18ms/step - loss: 36.0488 - accuracy: 0.0000e+00 - val_loss: 29.6362 - val_accuracy: 0.0000e+00\n",
      "Epoch 152/334\n",
      "9/9 [==============================] - 0s 15ms/step - loss: 30.2220 - accuracy: 0.0000e+00 - val_loss: 24.5848 - val_accuracy: 0.0000e+00\n",
      "Epoch 153/334\n",
      "9/9 [==============================] - 0s 22ms/step - loss: 28.0563 - accuracy: 0.0000e+00 - val_loss: 35.6993 - val_accuracy: 0.0000e+00\n",
      "Epoch 154/334\n",
      "9/9 [==============================] - 0s 17ms/step - loss: 35.5841 - accuracy: 0.0000e+00 - val_loss: 28.7124 - val_accuracy: 0.0000e+00\n",
      "Epoch 155/334\n",
      "9/9 [==============================] - 0s 17ms/step - loss: 28.1837 - accuracy: 0.0000e+00 - val_loss: 25.2789 - val_accuracy: 0.0000e+00\n",
      "Epoch 156/334\n",
      "9/9 [==============================] - 0s 13ms/step - loss: 24.7590 - accuracy: 0.0000e+00 - val_loss: 23.3750 - val_accuracy: 0.0000e+00\n",
      "Epoch 157/334\n",
      "9/9 [==============================] - 0s 50ms/step - loss: 24.4815 - accuracy: 0.0000e+00 - val_loss: 21.5031 - val_accuracy: 0.0000e+00\n",
      "Epoch 158/334\n",
      "9/9 [==============================] - 0s 48ms/step - loss: 29.0320 - accuracy: 0.0000e+00 - val_loss: 19.6512 - val_accuracy: 0.0000e+00\n",
      "Epoch 159/334\n",
      "9/9 [==============================] - 0s 54ms/step - loss: 20.7361 - accuracy: 0.0000e+00 - val_loss: 16.7582 - val_accuracy: 0.0000e+00\n",
      "Epoch 160/334\n",
      "9/9 [==============================] - 0s 15ms/step - loss: 23.6498 - accuracy: 0.0000e+00 - val_loss: 22.4896 - val_accuracy: 0.0000e+00\n",
      "Epoch 161/334\n",
      "9/9 [==============================] - 0s 15ms/step - loss: 24.9826 - accuracy: 0.0000e+00 - val_loss: 21.1564 - val_accuracy: 0.0000e+00\n",
      "Epoch 162/334\n",
      "9/9 [==============================] - 0s 16ms/step - loss: 22.2141 - accuracy: 0.0000e+00 - val_loss: 19.6507 - val_accuracy: 0.0000e+00\n",
      "Epoch 163/334\n",
      "9/9 [==============================] - 0s 18ms/step - loss: 20.6275 - accuracy: 0.0000e+00 - val_loss: 18.6662 - val_accuracy: 0.0000e+00\n",
      "Epoch 164/334\n",
      "9/9 [==============================] - 0s 16ms/step - loss: 24.6500 - accuracy: 0.0000e+00 - val_loss: 19.2334 - val_accuracy: 0.0000e+00\n",
      "Epoch 165/334\n",
      "9/9 [==============================] - 0s 16ms/step - loss: 23.5044 - accuracy: 0.0000e+00 - val_loss: 25.4415 - val_accuracy: 0.0000e+00\n",
      "Epoch 166/334\n",
      "9/9 [==============================] - 0s 15ms/step - loss: 25.2816 - accuracy: 0.0000e+00 - val_loss: 19.3298 - val_accuracy: 0.0000e+00\n",
      "Epoch 167/334\n",
      "9/9 [==============================] - 0s 14ms/step - loss: 22.8445 - accuracy: 0.0000e+00 - val_loss: 20.9773 - val_accuracy: 0.0000e+00\n",
      "Epoch 168/334\n",
      "9/9 [==============================] - 0s 14ms/step - loss: 22.5287 - accuracy: 0.0000e+00 - val_loss: 21.5224 - val_accuracy: 0.0000e+00\n",
      "Epoch 169/334\n",
      "9/9 [==============================] - 0s 14ms/step - loss: 18.7746 - accuracy: 0.0000e+00 - val_loss: 18.8881 - val_accuracy: 0.0000e+00\n",
      "Epoch 170/334\n",
      "9/9 [==============================] - 0s 14ms/step - loss: 25.3444 - accuracy: 0.0000e+00 - val_loss: 23.3072 - val_accuracy: 0.0000e+00\n",
      "Epoch 171/334\n",
      "9/9 [==============================] - 1s 58ms/step - loss: 19.4595 - accuracy: 0.0000e+00 - val_loss: 15.4675 - val_accuracy: 0.0000e+00\n",
      "Epoch 172/334\n",
      "9/9 [==============================] - 1s 60ms/step - loss: 16.2489 - accuracy: 0.0000e+00 - val_loss: 14.9658 - val_accuracy: 0.0000e+00\n",
      "Epoch 173/334\n",
      "9/9 [==============================] - 1s 59ms/step - loss: 17.5478 - accuracy: 0.0000e+00 - val_loss: 13.6915 - val_accuracy: 0.0000e+00\n",
      "Epoch 174/334\n",
      "9/9 [==============================] - ETA: 0s - loss: 18.4996 - accuracy: 0.0000e+00"
     ]
    },
    {
     "ename": "UnknownError",
     "evalue": "Failed to rename: KT_Dir\\KT_Hyperband_Qc [W]\\trial_51005d7cafa79127285e2e448a0bb23e\\checkpoints\\epoch_0\\checkpoint_temp_d77d0030ff16408eaf6838c1e4fa7616/part-00000-of-00001.data-00000-of-00001 to: KT_Dir\\KT_Hyperband_Qc [W]\\trial_51005d7cafa79127285e2e448a0bb23e\\checkpoints\\epoch_0\\checkpoint.data-00000-of-00001 : Acesso negado.\r\n; Input/output error [Op:MergeV2Checkpoints]",
     "output_type": "error",
     "traceback": [
      "\u001b[1;31m---------------------------------------------------------------------------\u001b[0m",
      "\u001b[1;31mUnknownError\u001b[0m                              Traceback (most recent call last)",
      "\u001b[1;32mi:\\GitHub\\Thermal Regenerators\\Experimental\\Deep Learning.ipynb Célula: 29\u001b[0m in \u001b[0;36m<cell line: 1>\u001b[1;34m()\u001b[0m\n\u001b[1;32m----> <a href='vscode-notebook-cell:/i%3A/GitHub/Thermal%20Regenerators/Experimental/Deep%20Learning.ipynb#X40sZmlsZQ%3D%3D?line=0'>1</a>\u001b[0m NeuNet(X_train,y_train,\u001b[39m1000\u001b[39;49m,\u001b[39m'\u001b[39;49m\u001b[39mQc [W]\u001b[39;49m\u001b[39m'\u001b[39;49m)\n",
      "\u001b[1;32mi:\\GitHub\\Thermal Regenerators\\Experimental\\Deep Learning.ipynb Célula: 29\u001b[0m in \u001b[0;36mNeuNet\u001b[1;34m(X_train, y_train, max_epochs, Obj)\u001b[0m\n\u001b[0;32m      <a href='vscode-notebook-cell:/i%3A/GitHub/Thermal%20Regenerators/Experimental/Deep%20Learning.ipynb#X40sZmlsZQ%3D%3D?line=3'>4</a>\u001b[0m tuner \u001b[39m=\u001b[39m MyTuner(Build,\n\u001b[0;32m      <a href='vscode-notebook-cell:/i%3A/GitHub/Thermal%20Regenerators/Experimental/Deep%20Learning.ipynb#X40sZmlsZQ%3D%3D?line=4'>5</a>\u001b[0m                 objective \u001b[39m=\u001b[39m \u001b[39m'\u001b[39m\u001b[39mval_loss\u001b[39m\u001b[39m'\u001b[39m,\n\u001b[0;32m      <a href='vscode-notebook-cell:/i%3A/GitHub/Thermal%20Regenerators/Experimental/Deep%20Learning.ipynb#X40sZmlsZQ%3D%3D?line=5'>6</a>\u001b[0m                 max_epochs \u001b[39m=\u001b[39m max_epochs,\n\u001b[1;32m   (...)\u001b[0m\n\u001b[0;32m      <a href='vscode-notebook-cell:/i%3A/GitHub/Thermal%20Regenerators/Experimental/Deep%20Learning.ipynb#X40sZmlsZQ%3D%3D?line=8'>9</a>\u001b[0m                 executions_per_trial \u001b[39m=\u001b[39m \u001b[39m1\u001b[39m,   \n\u001b[0;32m     <a href='vscode-notebook-cell:/i%3A/GitHub/Thermal%20Regenerators/Experimental/Deep%20Learning.ipynb#X40sZmlsZQ%3D%3D?line=9'>10</a>\u001b[0m )\n\u001b[0;32m     <a href='vscode-notebook-cell:/i%3A/GitHub/Thermal%20Regenerators/Experimental/Deep%20Learning.ipynb#X40sZmlsZQ%3D%3D?line=11'>12</a>\u001b[0m \u001b[39m# Hyperparameter Optimization\u001b[39;00m\n\u001b[1;32m---> <a href='vscode-notebook-cell:/i%3A/GitHub/Thermal%20Regenerators/Experimental/Deep%20Learning.ipynb#X40sZmlsZQ%3D%3D?line=12'>13</a>\u001b[0m tuner\u001b[39m.\u001b[39;49msearch(X_train,\n\u001b[0;32m     <a href='vscode-notebook-cell:/i%3A/GitHub/Thermal%20Regenerators/Experimental/Deep%20Learning.ipynb#X40sZmlsZQ%3D%3D?line=13'>14</a>\u001b[0m              y_train[Obj],\n\u001b[0;32m     <a href='vscode-notebook-cell:/i%3A/GitHub/Thermal%20Regenerators/Experimental/Deep%20Learning.ipynb#X40sZmlsZQ%3D%3D?line=14'>15</a>\u001b[0m              epochs\u001b[39m=\u001b[39;49mmax_epochs,\n\u001b[0;32m     <a href='vscode-notebook-cell:/i%3A/GitHub/Thermal%20Regenerators/Experimental/Deep%20Learning.ipynb#X40sZmlsZQ%3D%3D?line=15'>16</a>\u001b[0m              \u001b[39m#callbacks=[EarlyStopping('val_loss', patience=5)],\u001b[39;49;00m\n\u001b[0;32m     <a href='vscode-notebook-cell:/i%3A/GitHub/Thermal%20Regenerators/Experimental/Deep%20Learning.ipynb#X40sZmlsZQ%3D%3D?line=16'>17</a>\u001b[0m              verbose\u001b[39m=\u001b[39;49m\u001b[39m1\u001b[39;49m,\n\u001b[0;32m     <a href='vscode-notebook-cell:/i%3A/GitHub/Thermal%20Regenerators/Experimental/Deep%20Learning.ipynb#X40sZmlsZQ%3D%3D?line=17'>18</a>\u001b[0m              validation_split\u001b[39m=\u001b[39;49m\u001b[39m0.2\u001b[39;49m)\n\u001b[0;32m     <a href='vscode-notebook-cell:/i%3A/GitHub/Thermal%20Regenerators/Experimental/Deep%20Learning.ipynb#X40sZmlsZQ%3D%3D?line=20'>21</a>\u001b[0m \u001b[39m# Trainning the Best Model\u001b[39;00m\n\u001b[0;32m     <a href='vscode-notebook-cell:/i%3A/GitHub/Thermal%20Regenerators/Experimental/Deep%20Learning.ipynb#X40sZmlsZQ%3D%3D?line=21'>22</a>\u001b[0m best_model \u001b[39m=\u001b[39m tuner\u001b[39m.\u001b[39mget_best_models()[\u001b[39m0\u001b[39m]\n",
      "File \u001b[1;32mc:\\Users\\Guilherme\\Anaconda3\\lib\\site-packages\\keras_tuner\\engine\\base_tuner.py:144\u001b[0m, in \u001b[0;36mBaseTuner.search\u001b[1;34m(self, *fit_args, **fit_kwargs)\u001b[0m\n\u001b[0;32m    141\u001b[0m         \u001b[39mcontinue\u001b[39;00m\n\u001b[0;32m    143\u001b[0m     \u001b[39mself\u001b[39m\u001b[39m.\u001b[39mon_trial_begin(trial)\n\u001b[1;32m--> 144\u001b[0m     \u001b[39mself\u001b[39;49m\u001b[39m.\u001b[39;49mrun_trial(trial, \u001b[39m*\u001b[39;49mfit_args, \u001b[39m*\u001b[39;49m\u001b[39m*\u001b[39;49mfit_kwargs)\n\u001b[0;32m    145\u001b[0m     \u001b[39mself\u001b[39m\u001b[39m.\u001b[39mon_trial_end(trial)\n\u001b[0;32m    146\u001b[0m \u001b[39mself\u001b[39m\u001b[39m.\u001b[39mon_search_end()\n",
      "\u001b[1;32mi:\\GitHub\\Thermal Regenerators\\Experimental\\Deep Learning.ipynb Célula: 29\u001b[0m in \u001b[0;36mMyTuner.run_trial\u001b[1;34m(self, trial, *args, **kwargs)\u001b[0m\n\u001b[0;32m      <a href='vscode-notebook-cell:/i%3A/GitHub/Thermal%20Regenerators/Experimental/Deep%20Learning.ipynb#X40sZmlsZQ%3D%3D?line=1'>2</a>\u001b[0m \u001b[39mdef\u001b[39;00m \u001b[39mrun_trial\u001b[39m(\u001b[39mself\u001b[39m, trial, \u001b[39m*\u001b[39margs, \u001b[39m*\u001b[39m\u001b[39m*\u001b[39mkwargs):\n\u001b[0;32m      <a href='vscode-notebook-cell:/i%3A/GitHub/Thermal%20Regenerators/Experimental/Deep%20Learning.ipynb#X40sZmlsZQ%3D%3D?line=2'>3</a>\u001b[0m     kwargs[\u001b[39m'\u001b[39m\u001b[39mbatch_size\u001b[39m\u001b[39m'\u001b[39m] \u001b[39m=\u001b[39m trial\u001b[39m.\u001b[39mhyperparameters\u001b[39m.\u001b[39mInt(\u001b[39m'\u001b[39m\u001b[39mbatch_size\u001b[39m\u001b[39m'\u001b[39m, \u001b[39m1\u001b[39m, \u001b[39m501\u001b[39m, step\u001b[39m=\u001b[39m\u001b[39m5\u001b[39m)\n\u001b[1;32m----> <a href='vscode-notebook-cell:/i%3A/GitHub/Thermal%20Regenerators/Experimental/Deep%20Learning.ipynb#X40sZmlsZQ%3D%3D?line=3'>4</a>\u001b[0m     \u001b[39msuper\u001b[39;49m(MyTuner, \u001b[39mself\u001b[39;49m)\u001b[39m.\u001b[39;49mrun_trial(trial, \u001b[39m*\u001b[39;49margs, \u001b[39m*\u001b[39;49m\u001b[39m*\u001b[39;49mkwargs)\n",
      "File \u001b[1;32mc:\\Users\\Guilherme\\Anaconda3\\lib\\site-packages\\keras_tuner\\tuners\\hyperband.py:370\u001b[0m, in \u001b[0;36mHyperband.run_trial\u001b[1;34m(self, trial, *fit_args, **fit_kwargs)\u001b[0m\n\u001b[0;32m    368\u001b[0m     fit_kwargs[\u001b[39m\"\u001b[39m\u001b[39mepochs\u001b[39m\u001b[39m\"\u001b[39m] \u001b[39m=\u001b[39m hp\u001b[39m.\u001b[39mvalues[\u001b[39m\"\u001b[39m\u001b[39mtuner/epochs\u001b[39m\u001b[39m\"\u001b[39m]\n\u001b[0;32m    369\u001b[0m     fit_kwargs[\u001b[39m\"\u001b[39m\u001b[39minitial_epoch\u001b[39m\u001b[39m\"\u001b[39m] \u001b[39m=\u001b[39m hp\u001b[39m.\u001b[39mvalues[\u001b[39m\"\u001b[39m\u001b[39mtuner/initial_epoch\u001b[39m\u001b[39m\"\u001b[39m]\n\u001b[1;32m--> 370\u001b[0m \u001b[39msuper\u001b[39;49m(Hyperband, \u001b[39mself\u001b[39;49m)\u001b[39m.\u001b[39;49mrun_trial(trial, \u001b[39m*\u001b[39;49mfit_args, \u001b[39m*\u001b[39;49m\u001b[39m*\u001b[39;49mfit_kwargs)\n",
      "File \u001b[1;32mc:\\Users\\Guilherme\\Anaconda3\\lib\\site-packages\\keras_tuner\\engine\\multi_execution_tuner.py:90\u001b[0m, in \u001b[0;36mMultiExecutionTuner.run_trial\u001b[1;34m(self, trial, *fit_args, **fit_kwargs)\u001b[0m\n\u001b[0;32m     87\u001b[0m callbacks\u001b[39m.\u001b[39mappend(model_checkpoint)\n\u001b[0;32m     88\u001b[0m copied_fit_kwargs[\u001b[39m\"\u001b[39m\u001b[39mcallbacks\u001b[39m\u001b[39m\"\u001b[39m] \u001b[39m=\u001b[39m callbacks\n\u001b[1;32m---> 90\u001b[0m history \u001b[39m=\u001b[39m \u001b[39mself\u001b[39;49m\u001b[39m.\u001b[39;49m_build_and_fit_model(trial, fit_args, copied_fit_kwargs)\n\u001b[0;32m     91\u001b[0m \u001b[39mfor\u001b[39;00m metric, epoch_values \u001b[39min\u001b[39;00m history\u001b[39m.\u001b[39mhistory\u001b[39m.\u001b[39mitems():\n\u001b[0;32m     92\u001b[0m     \u001b[39mif\u001b[39;00m \u001b[39mself\u001b[39m\u001b[39m.\u001b[39moracle\u001b[39m.\u001b[39mobjective\u001b[39m.\u001b[39mdirection \u001b[39m==\u001b[39m \u001b[39m\"\u001b[39m\u001b[39mmin\u001b[39m\u001b[39m\"\u001b[39m:\n",
      "File \u001b[1;32mc:\\Users\\Guilherme\\Anaconda3\\lib\\site-packages\\keras_tuner\\engine\\tuner.py:147\u001b[0m, in \u001b[0;36mTuner._build_and_fit_model\u001b[1;34m(self, trial, fit_args, fit_kwargs)\u001b[0m\n\u001b[0;32m    129\u001b[0m \u001b[39m\"\"\"For AutoKeras to override.\u001b[39;00m\n\u001b[0;32m    130\u001b[0m \n\u001b[0;32m    131\u001b[0m \u001b[39mDO NOT REMOVE this function. AutoKeras overrides the function to tune\u001b[39;00m\n\u001b[1;32m   (...)\u001b[0m\n\u001b[0;32m    144\u001b[0m \u001b[39m    The fit history.\u001b[39;00m\n\u001b[0;32m    145\u001b[0m \u001b[39m\"\"\"\u001b[39;00m\n\u001b[0;32m    146\u001b[0m model \u001b[39m=\u001b[39m \u001b[39mself\u001b[39m\u001b[39m.\u001b[39mhypermodel\u001b[39m.\u001b[39mbuild(trial\u001b[39m.\u001b[39mhyperparameters)\n\u001b[1;32m--> 147\u001b[0m \u001b[39mreturn\u001b[39;00m model\u001b[39m.\u001b[39;49mfit(\u001b[39m*\u001b[39;49mfit_args, \u001b[39m*\u001b[39;49m\u001b[39m*\u001b[39;49mfit_kwargs)\n",
      "File \u001b[1;32mc:\\Users\\Guilherme\\Anaconda3\\lib\\site-packages\\tensorflow\\python\\keras\\engine\\training.py:108\u001b[0m, in \u001b[0;36menable_multi_worker.<locals>._method_wrapper\u001b[1;34m(self, *args, **kwargs)\u001b[0m\n\u001b[0;32m    106\u001b[0m \u001b[39mdef\u001b[39;00m \u001b[39m_method_wrapper\u001b[39m(\u001b[39mself\u001b[39m, \u001b[39m*\u001b[39margs, \u001b[39m*\u001b[39m\u001b[39m*\u001b[39mkwargs):\n\u001b[0;32m    107\u001b[0m   \u001b[39mif\u001b[39;00m \u001b[39mnot\u001b[39;00m \u001b[39mself\u001b[39m\u001b[39m.\u001b[39m_in_multi_worker_mode():  \u001b[39m# pylint: disable=protected-access\u001b[39;00m\n\u001b[1;32m--> 108\u001b[0m     \u001b[39mreturn\u001b[39;00m method(\u001b[39mself\u001b[39;49m, \u001b[39m*\u001b[39;49margs, \u001b[39m*\u001b[39;49m\u001b[39m*\u001b[39;49mkwargs)\n\u001b[0;32m    110\u001b[0m   \u001b[39m# Running inside `run_distribute_coordinator` already.\u001b[39;00m\n\u001b[0;32m    111\u001b[0m   \u001b[39mif\u001b[39;00m dc_context\u001b[39m.\u001b[39mget_current_worker_context():\n",
      "File \u001b[1;32mc:\\Users\\Guilherme\\Anaconda3\\lib\\site-packages\\tensorflow\\python\\keras\\engine\\training.py:1137\u001b[0m, in \u001b[0;36mModel.fit\u001b[1;34m(self, x, y, batch_size, epochs, verbose, callbacks, validation_split, validation_data, shuffle, class_weight, sample_weight, initial_epoch, steps_per_epoch, validation_steps, validation_batch_size, validation_freq, max_queue_size, workers, use_multiprocessing)\u001b[0m\n\u001b[0;32m   1134\u001b[0m   val_logs \u001b[39m=\u001b[39m {\u001b[39m'\u001b[39m\u001b[39mval_\u001b[39m\u001b[39m'\u001b[39m \u001b[39m+\u001b[39m name: val \u001b[39mfor\u001b[39;00m name, val \u001b[39min\u001b[39;00m val_logs\u001b[39m.\u001b[39mitems()}\n\u001b[0;32m   1135\u001b[0m   epoch_logs\u001b[39m.\u001b[39mupdate(val_logs)\n\u001b[1;32m-> 1137\u001b[0m callbacks\u001b[39m.\u001b[39;49mon_epoch_end(epoch, epoch_logs)\n\u001b[0;32m   1138\u001b[0m training_logs \u001b[39m=\u001b[39m epoch_logs\n\u001b[0;32m   1139\u001b[0m \u001b[39mif\u001b[39;00m \u001b[39mself\u001b[39m\u001b[39m.\u001b[39mstop_training:\n",
      "File \u001b[1;32mc:\\Users\\Guilherme\\Anaconda3\\lib\\site-packages\\tensorflow\\python\\keras\\callbacks.py:412\u001b[0m, in \u001b[0;36mCallbackList.on_epoch_end\u001b[1;34m(self, epoch, logs)\u001b[0m\n\u001b[0;32m    410\u001b[0m \u001b[39mfor\u001b[39;00m callback \u001b[39min\u001b[39;00m \u001b[39mself\u001b[39m\u001b[39m.\u001b[39mcallbacks:\n\u001b[0;32m    411\u001b[0m   \u001b[39mif\u001b[39;00m \u001b[39mgetattr\u001b[39m(callback, \u001b[39m'\u001b[39m\u001b[39m_supports_tf_logs\u001b[39m\u001b[39m'\u001b[39m, \u001b[39mFalse\u001b[39;00m):\n\u001b[1;32m--> 412\u001b[0m     callback\u001b[39m.\u001b[39;49mon_epoch_end(epoch, logs)\n\u001b[0;32m    413\u001b[0m   \u001b[39melse\u001b[39;00m:\n\u001b[0;32m    414\u001b[0m     \u001b[39mif\u001b[39;00m numpy_logs \u001b[39mis\u001b[39;00m \u001b[39mNone\u001b[39;00m:  \u001b[39m# Only convert once.\u001b[39;00m\n",
      "File \u001b[1;32mc:\\Users\\Guilherme\\Anaconda3\\lib\\site-packages\\tensorflow\\python\\keras\\callbacks.py:1249\u001b[0m, in \u001b[0;36mModelCheckpoint.on_epoch_end\u001b[1;34m(self, epoch, logs)\u001b[0m\n\u001b[0;32m   1247\u001b[0m \u001b[39m# pylint: disable=protected-access\u001b[39;00m\n\u001b[0;32m   1248\u001b[0m \u001b[39mif\u001b[39;00m \u001b[39mself\u001b[39m\u001b[39m.\u001b[39msave_freq \u001b[39m==\u001b[39m \u001b[39m'\u001b[39m\u001b[39mepoch\u001b[39m\u001b[39m'\u001b[39m:\n\u001b[1;32m-> 1249\u001b[0m   \u001b[39mself\u001b[39;49m\u001b[39m.\u001b[39;49m_save_model(epoch\u001b[39m=\u001b[39;49mepoch, logs\u001b[39m=\u001b[39;49mlogs)\n",
      "File \u001b[1;32mc:\\Users\\Guilherme\\Anaconda3\\lib\\site-packages\\tensorflow\\python\\keras\\callbacks.py:1298\u001b[0m, in \u001b[0;36mModelCheckpoint._save_model\u001b[1;34m(self, epoch, logs)\u001b[0m\n\u001b[0;32m   1296\u001b[0m \u001b[39mself\u001b[39m\u001b[39m.\u001b[39mbest \u001b[39m=\u001b[39m current\n\u001b[0;32m   1297\u001b[0m \u001b[39mif\u001b[39;00m \u001b[39mself\u001b[39m\u001b[39m.\u001b[39msave_weights_only:\n\u001b[1;32m-> 1298\u001b[0m   \u001b[39mself\u001b[39;49m\u001b[39m.\u001b[39;49mmodel\u001b[39m.\u001b[39;49msave_weights(\n\u001b[0;32m   1299\u001b[0m       filepath, overwrite\u001b[39m=\u001b[39;49m\u001b[39mTrue\u001b[39;49;00m, options\u001b[39m=\u001b[39;49m\u001b[39mself\u001b[39;49m\u001b[39m.\u001b[39;49m_options)\n\u001b[0;32m   1300\u001b[0m \u001b[39melse\u001b[39;00m:\n\u001b[0;32m   1301\u001b[0m   \u001b[39mself\u001b[39m\u001b[39m.\u001b[39mmodel\u001b[39m.\u001b[39msave(filepath, overwrite\u001b[39m=\u001b[39m\u001b[39mTrue\u001b[39;00m, options\u001b[39m=\u001b[39m\u001b[39mself\u001b[39m\u001b[39m.\u001b[39m_options)\n",
      "File \u001b[1;32mc:\\Users\\Guilherme\\Anaconda3\\lib\\site-packages\\tensorflow\\python\\keras\\engine\\training.py:2101\u001b[0m, in \u001b[0;36mModel.save_weights\u001b[1;34m(self, filepath, overwrite, save_format, options)\u001b[0m\n\u001b[0;32m   2092\u001b[0m \u001b[39mif\u001b[39;00m (optimizer\n\u001b[0;32m   2093\u001b[0m     \u001b[39mand\u001b[39;00m \u001b[39mnot\u001b[39;00m \u001b[39misinstance\u001b[39m(optimizer, trackable\u001b[39m.\u001b[39mTrackable)):\n\u001b[0;32m   2094\u001b[0m   logging\u001b[39m.\u001b[39mwarning(\n\u001b[0;32m   2095\u001b[0m       (\u001b[39m'\u001b[39m\u001b[39mThis model was compiled with a Keras optimizer (\u001b[39m\u001b[39m%s\u001b[39;00m\u001b[39m) but is being \u001b[39m\u001b[39m'\u001b[39m\n\u001b[0;32m   2096\u001b[0m        \u001b[39m'\u001b[39m\u001b[39msaved in TensorFlow format with `save_weights`. The model\u001b[39m\u001b[39m\\'\u001b[39;00m\u001b[39ms \u001b[39m\u001b[39m'\u001b[39m\n\u001b[1;32m   (...)\u001b[0m\n\u001b[0;32m   2099\u001b[0m        \u001b[39m'\u001b[39m\u001b[39msaved.\u001b[39m\u001b[39m\\n\u001b[39;00m\u001b[39m\\n\u001b[39;00m\u001b[39mConsider using a TensorFlow optimizer from `tf.train`.\u001b[39m\u001b[39m'\u001b[39m)\n\u001b[0;32m   2100\u001b[0m       \u001b[39m%\u001b[39m (optimizer,))\n\u001b[1;32m-> 2101\u001b[0m \u001b[39mself\u001b[39;49m\u001b[39m.\u001b[39;49m_trackable_saver\u001b[39m.\u001b[39;49msave(filepath, session\u001b[39m=\u001b[39;49msession, options\u001b[39m=\u001b[39;49moptions)\n\u001b[0;32m   2102\u001b[0m \u001b[39m# Record this checkpoint so it's visible from tf.train.latest_checkpoint.\u001b[39;00m\n\u001b[0;32m   2103\u001b[0m checkpoint_management\u001b[39m.\u001b[39mupdate_checkpoint_state_internal(\n\u001b[0;32m   2104\u001b[0m     save_dir\u001b[39m=\u001b[39mos\u001b[39m.\u001b[39mpath\u001b[39m.\u001b[39mdirname(filepath),\n\u001b[0;32m   2105\u001b[0m     model_checkpoint_path\u001b[39m=\u001b[39mfilepath,\n\u001b[0;32m   2106\u001b[0m     save_relative_paths\u001b[39m=\u001b[39m\u001b[39mTrue\u001b[39;00m,\n\u001b[0;32m   2107\u001b[0m     all_model_checkpoint_paths\u001b[39m=\u001b[39m[filepath])\n",
      "File \u001b[1;32mc:\\Users\\Guilherme\\Anaconda3\\lib\\site-packages\\tensorflow\\python\\training\\tracking\\util.py:1199\u001b[0m, in \u001b[0;36mTrackableSaver.save\u001b[1;34m(self, file_prefix, checkpoint_number, session, options)\u001b[0m\n\u001b[0;32m   1196\u001b[0m   object_graph_tensor \u001b[39m=\u001b[39m \u001b[39mNone\u001b[39;00m\n\u001b[0;32m   1198\u001b[0m file_io\u001b[39m.\u001b[39mrecursive_create_dir(os\u001b[39m.\u001b[39mpath\u001b[39m.\u001b[39mdirname(file_prefix))\n\u001b[1;32m-> 1199\u001b[0m save_path, new_feed_additions \u001b[39m=\u001b[39m \u001b[39mself\u001b[39;49m\u001b[39m.\u001b[39;49m_save_cached_when_graph_building(\n\u001b[0;32m   1200\u001b[0m     file_prefix_tensor, object_graph_tensor, options)\n\u001b[0;32m   1201\u001b[0m \u001b[39mif\u001b[39;00m new_feed_additions:\n\u001b[0;32m   1202\u001b[0m   feed_dict\u001b[39m.\u001b[39mupdate(new_feed_additions)\n",
      "File \u001b[1;32mc:\\Users\\Guilherme\\Anaconda3\\lib\\site-packages\\tensorflow\\python\\training\\tracking\\util.py:1145\u001b[0m, in \u001b[0;36mTrackableSaver._save_cached_when_graph_building\u001b[1;34m(self, file_prefix, object_graph_tensor, options)\u001b[0m\n\u001b[0;32m   1138\u001b[0m \u001b[39mif\u001b[39;00m (\u001b[39mself\u001b[39m\u001b[39m.\u001b[39m_last_save_object_graph \u001b[39m!=\u001b[39m graph_proto\n\u001b[0;32m   1139\u001b[0m     \u001b[39m# When executing eagerly, we need to re-create SaveableObjects each time\u001b[39;00m\n\u001b[0;32m   1140\u001b[0m     \u001b[39m# save() is called so they pick up new Tensors passed to their\u001b[39;00m\n\u001b[0;32m   1141\u001b[0m     \u001b[39m# constructors. That means the Saver needs to be copied with a new\u001b[39;00m\n\u001b[0;32m   1142\u001b[0m     \u001b[39m# var_list.\u001b[39;00m\n\u001b[0;32m   1143\u001b[0m     \u001b[39mor\u001b[39;00m context\u001b[39m.\u001b[39mexecuting_eagerly() \u001b[39mor\u001b[39;00m ops\u001b[39m.\u001b[39minside_function()):\n\u001b[0;32m   1144\u001b[0m   saver \u001b[39m=\u001b[39m functional_saver\u001b[39m.\u001b[39mMultiDeviceSaver(named_saveable_objects)\n\u001b[1;32m-> 1145\u001b[0m   save_op \u001b[39m=\u001b[39m saver\u001b[39m.\u001b[39;49msave(file_prefix, options\u001b[39m=\u001b[39;49moptions)\n\u001b[0;32m   1146\u001b[0m   \u001b[39mwith\u001b[39;00m ops\u001b[39m.\u001b[39mdevice(\u001b[39m\"\u001b[39m\u001b[39m/cpu:0\u001b[39m\u001b[39m\"\u001b[39m):\n\u001b[0;32m   1147\u001b[0m     \u001b[39mwith\u001b[39;00m ops\u001b[39m.\u001b[39mcontrol_dependencies([save_op]):\n",
      "File \u001b[1;32mc:\\Users\\Guilherme\\Anaconda3\\lib\\site-packages\\tensorflow\\python\\training\\saving\\functional_saver.py:295\u001b[0m, in \u001b[0;36mMultiDeviceSaver.save\u001b[1;34m(self, file_prefix, options)\u001b[0m\n\u001b[0;32m    293\u001b[0m   tf_function_save()\n\u001b[0;32m    294\u001b[0m \u001b[39melse\u001b[39;00m:\n\u001b[1;32m--> 295\u001b[0m   \u001b[39mreturn\u001b[39;00m save_fn()\n",
      "File \u001b[1;32mc:\\Users\\Guilherme\\Anaconda3\\lib\\site-packages\\tensorflow\\python\\training\\saving\\functional_saver.py:281\u001b[0m, in \u001b[0;36mMultiDeviceSaver.save.<locals>.save_fn\u001b[1;34m()\u001b[0m\n\u001b[0;32m    274\u001b[0m merge_device \u001b[39m=\u001b[39m (\n\u001b[0;32m    275\u001b[0m     options\u001b[39m.\u001b[39mexperimental_io_device \u001b[39mor\u001b[39;00m\n\u001b[0;32m    276\u001b[0m     saveable_object_util\u001b[39m.\u001b[39mset_cpu0(last_device))\n\u001b[0;32m    277\u001b[0m \u001b[39mwith\u001b[39;00m ops\u001b[39m.\u001b[39mdevice(merge_device):\n\u001b[0;32m    278\u001b[0m   \u001b[39m# V2 format write path consists of a metadata merge step.  Once\u001b[39;00m\n\u001b[0;32m    279\u001b[0m   \u001b[39m# merged, attempts to delete the temporary directory,\u001b[39;00m\n\u001b[0;32m    280\u001b[0m   \u001b[39m# \"<user-fed prefix>_temp\".\u001b[39;00m\n\u001b[1;32m--> 281\u001b[0m   \u001b[39mreturn\u001b[39;00m gen_io_ops\u001b[39m.\u001b[39;49mmerge_v2_checkpoints(\n\u001b[0;32m    282\u001b[0m       sharded_prefixes, file_prefix, delete_old_dirs\u001b[39m=\u001b[39;49m\u001b[39mTrue\u001b[39;49;00m)\n",
      "File \u001b[1;32mc:\\Users\\Guilherme\\Anaconda3\\lib\\site-packages\\tensorflow\\python\\ops\\gen_io_ops.py:503\u001b[0m, in \u001b[0;36mmerge_v2_checkpoints\u001b[1;34m(checkpoint_prefixes, destination_prefix, delete_old_dirs, name)\u001b[0m\n\u001b[0;32m    501\u001b[0m   \u001b[39mpass\u001b[39;00m\n\u001b[0;32m    502\u001b[0m \u001b[39mtry\u001b[39;00m:\n\u001b[1;32m--> 503\u001b[0m   \u001b[39mreturn\u001b[39;00m merge_v2_checkpoints_eager_fallback(\n\u001b[0;32m    504\u001b[0m       checkpoint_prefixes, destination_prefix,\n\u001b[0;32m    505\u001b[0m       delete_old_dirs\u001b[39m=\u001b[39;49mdelete_old_dirs, name\u001b[39m=\u001b[39;49mname, ctx\u001b[39m=\u001b[39;49m_ctx)\n\u001b[0;32m    506\u001b[0m \u001b[39mexcept\u001b[39;00m _core\u001b[39m.\u001b[39m_SymbolicException:\n\u001b[0;32m    507\u001b[0m   \u001b[39mpass\u001b[39;00m  \u001b[39m# Add nodes to the TensorFlow graph.\u001b[39;00m\n",
      "File \u001b[1;32mc:\\Users\\Guilherme\\Anaconda3\\lib\\site-packages\\tensorflow\\python\\ops\\gen_io_ops.py:528\u001b[0m, in \u001b[0;36mmerge_v2_checkpoints_eager_fallback\u001b[1;34m(checkpoint_prefixes, destination_prefix, delete_old_dirs, name, ctx)\u001b[0m\n\u001b[0;32m    526\u001b[0m _inputs_flat \u001b[39m=\u001b[39m [checkpoint_prefixes, destination_prefix]\n\u001b[0;32m    527\u001b[0m _attrs \u001b[39m=\u001b[39m (\u001b[39m\"\u001b[39m\u001b[39mdelete_old_dirs\u001b[39m\u001b[39m\"\u001b[39m, delete_old_dirs)\n\u001b[1;32m--> 528\u001b[0m _result \u001b[39m=\u001b[39m _execute\u001b[39m.\u001b[39;49mexecute(\u001b[39mb\u001b[39;49m\u001b[39m\"\u001b[39;49m\u001b[39mMergeV2Checkpoints\u001b[39;49m\u001b[39m\"\u001b[39;49m, \u001b[39m0\u001b[39;49m, inputs\u001b[39m=\u001b[39;49m_inputs_flat,\n\u001b[0;32m    529\u001b[0m                            attrs\u001b[39m=\u001b[39;49m_attrs, ctx\u001b[39m=\u001b[39;49mctx, name\u001b[39m=\u001b[39;49mname)\n\u001b[0;32m    530\u001b[0m _result \u001b[39m=\u001b[39m \u001b[39mNone\u001b[39;00m\n\u001b[0;32m    531\u001b[0m \u001b[39mreturn\u001b[39;00m _result\n",
      "File \u001b[1;32mc:\\Users\\Guilherme\\Anaconda3\\lib\\site-packages\\tensorflow\\python\\eager\\execute.py:59\u001b[0m, in \u001b[0;36mquick_execute\u001b[1;34m(op_name, num_outputs, inputs, attrs, ctx, name)\u001b[0m\n\u001b[0;32m     57\u001b[0m \u001b[39mtry\u001b[39;00m:\n\u001b[0;32m     58\u001b[0m   ctx\u001b[39m.\u001b[39mensure_initialized()\n\u001b[1;32m---> 59\u001b[0m   tensors \u001b[39m=\u001b[39m pywrap_tfe\u001b[39m.\u001b[39;49mTFE_Py_Execute(ctx\u001b[39m.\u001b[39;49m_handle, device_name, op_name,\n\u001b[0;32m     60\u001b[0m                                       inputs, attrs, num_outputs)\n\u001b[0;32m     61\u001b[0m \u001b[39mexcept\u001b[39;00m core\u001b[39m.\u001b[39m_NotOkStatusException \u001b[39mas\u001b[39;00m e:\n\u001b[0;32m     62\u001b[0m   \u001b[39mif\u001b[39;00m name \u001b[39mis\u001b[39;00m \u001b[39mnot\u001b[39;00m \u001b[39mNone\u001b[39;00m:\n",
      "\u001b[1;31mUnknownError\u001b[0m: Failed to rename: KT_Dir\\KT_Hyperband_Qc [W]\\trial_51005d7cafa79127285e2e448a0bb23e\\checkpoints\\epoch_0\\checkpoint_temp_d77d0030ff16408eaf6838c1e4fa7616/part-00000-of-00001.data-00000-of-00001 to: KT_Dir\\KT_Hyperband_Qc [W]\\trial_51005d7cafa79127285e2e448a0bb23e\\checkpoints\\epoch_0\\checkpoint.data-00000-of-00001 : Acesso negado.\r\n; Input/output error [Op:MergeV2Checkpoints]"
     ]
    }
   ],
   "source": [
    "NeuNet(X_train,y_train,1000,'Qc [W]')"
   ]
  },
  {
   "cell_type": "markdown",
   "id": "01b10fe2",
   "metadata": {
    "jp-MarkdownHeadingCollapsed": true,
    "tags": []
   },
   "source": [
    "### Testing the Models"
   ]
  },
  {
   "cell_type": "markdown",
   "id": "96c16d65",
   "metadata": {},
   "source": [
    "### Reading the Input Parameteres "
   ]
  },
  {
   "cell_type": "code",
   "execution_count": null,
   "id": "076debf4",
   "metadata": {},
   "outputs": [],
   "source": [
    "Inputs = pd.read_excel('Data/Data_AMR_Exp.xlsx',index_col = 0) # Input Data\n",
    "X = Inputs[Inputs.columns[:-4]]\n",
    "y = Inputs[['Qc [W]']]"
   ]
  },
  {
   "cell_type": "markdown",
   "id": "3f945f7e",
   "metadata": {},
   "source": [
    "### Train-Test Split"
   ]
  },
  {
   "cell_type": "code",
   "execution_count": null,
   "id": "57aac8ce",
   "metadata": {},
   "outputs": [],
   "source": [
    "X = X[(y['Qc [W]'] > Qc_min) & (X['Test'] != 'MCR')]\n",
    "y = y[(y['Qc [W]'] > Qc_min) & (X['Test'] != 'MCR')]\n",
    "\n",
    "X_train, X_test, y_train, y_test = train_test_split(X, \n",
    "                                                    y,\n",
    "                                                    test_size = 0.2,\n",
    "                                                    stratify = X['Test'],\n",
    "                                                    random_state = 42)\n",
    "X_train = X_train.drop(['Test'],axis = 1)\n",
    "X_test = X_test.drop(['Test'],axis = 1)"
   ]
  },
  {
   "cell_type": "markdown",
   "id": "6ad38b4e",
   "metadata": {},
   "source": [
    "### Scaling the Features"
   ]
  },
  {
   "cell_type": "code",
   "execution_count": null,
   "id": "be24ed30",
   "metadata": {},
   "outputs": [],
   "source": [
    "Scaller = joblib.load('Models/AMR_Scaler.pkl')"
   ]
  },
  {
   "cell_type": "code",
   "execution_count": null,
   "id": "8131ec3a",
   "metadata": {
    "scrolled": true
   },
   "outputs": [
    {
     "name": "stdout",
     "output_type": "stream",
     "text": [
      "Model: \"sequential\"\n",
      "_________________________________________________________________\n",
      "Layer (type)                 Output Shape              Param #   \n",
      "=================================================================\n",
      "batch_normalization (BatchNo (None, 31)                124       \n",
      "_________________________________________________________________\n",
      "dense (Dense)                (None, 281)               8992      \n",
      "_________________________________________________________________\n",
      "batch_normalization_1 (Batch (None, 281)               1124      \n",
      "_________________________________________________________________\n",
      "dense_1 (Dense)              (None, 606)               170892    \n",
      "_________________________________________________________________\n",
      "batch_normalization_2 (Batch (None, 606)               2424      \n",
      "_________________________________________________________________\n",
      "dense_2 (Dense)              (None, 391)               237337    \n",
      "_________________________________________________________________\n",
      "batch_normalization_3 (Batch (None, 391)               1564      \n",
      "_________________________________________________________________\n",
      "dense_3 (Dense)              (None, 1)                 392       \n",
      "=================================================================\n",
      "Total params: 422,849\n",
      "Trainable params: 420,231\n",
      "Non-trainable params: 2,618\n",
      "_________________________________________________________________\n",
      "Model: \"sequential\"\n",
      "_________________________________________________________________\n",
      "Layer (type)                 Output Shape              Param #   \n",
      "=================================================================\n",
      "batch_normalization (BatchNo (None, 31)                124       \n",
      "_________________________________________________________________\n",
      "dense (Dense)                (None, 281)               8992      \n",
      "_________________________________________________________________\n",
      "batch_normalization_1 (Batch (None, 281)               1124      \n",
      "_________________________________________________________________\n",
      "dense_1 (Dense)              (None, 606)               170892    \n",
      "_________________________________________________________________\n",
      "batch_normalization_2 (Batch (None, 606)               2424      \n",
      "_________________________________________________________________\n",
      "dense_2 (Dense)              (None, 391)               237337    \n",
      "_________________________________________________________________\n",
      "batch_normalization_3 (Batch (None, 391)               1564      \n",
      "_________________________________________________________________\n",
      "dense_3 (Dense)              (None, 1)                 392       \n",
      "=================================================================\n",
      "Total params: 422,849\n",
      "Trainable params: 420,231\n",
      "Non-trainable params: 2,618\n",
      "_________________________________________________________________\n",
      "0 <tensorflow.python.keras.layers.normalization_v2.BatchNormalization object at 0x0000019190449520>\n",
      "   no activation attribute\n",
      "1 <tensorflow.python.keras.layers.core.Dense object at 0x00000191966AB0D0>\n",
      "     <function relu at 0x000001918435B8B0>\n",
      "2 <tensorflow.python.keras.layers.normalization_v2.BatchNormalization object at 0x000001919667E1F0>\n",
      "   no activation attribute\n",
      "3 <tensorflow.python.keras.layers.core.Dense object at 0x0000019196706820>\n",
      "     <function relu at 0x000001918435B8B0>\n",
      "4 <tensorflow.python.keras.layers.normalization_v2.BatchNormalization object at 0x0000019190242700>\n",
      "   no activation attribute\n",
      "5 <tensorflow.python.keras.layers.core.Dense object at 0x00000191909A1070>\n",
      "     <function selu at 0x000001918435B430>\n",
      "6 <tensorflow.python.keras.layers.normalization_v2.BatchNormalization object at 0x0000019191C15700>\n",
      "   no activation attribute\n",
      "7 <tensorflow.python.keras.layers.core.Dense object at 0x00000191885796D0>\n",
      "     <function selu at 0x000001918435B430>\n",
      "The coefficient of determination for Qc [W] Training Set using Neural Networks is 0.9413330418703667\n",
      "The coefficient of determination for Qc [W] Test Set using Neural Networks is 0.9344697279429603\n"
     ]
    },
    {
     "data": {
      "image/png": "[encoded data removed]",
      "text/plain": [
       "<Figure size 640x480 with 1 Axes>"
      ]
     },
     "metadata": {},
     "output_type": "display_data"
    }
   ],
   "source": [
    "Test(X_train,y_train,'Qc [W]',Scaller)"
   ]
  },
  {
   "cell_type": "code",
   "execution_count": null,
   "id": "268835d8",
   "metadata": {},
   "outputs": [
    {
     "name": "stdout",
     "output_type": "stream",
     "text": [
      "Model: \"sequential\"\n",
      "_________________________________________________________________\n",
      " Layer (type)                Output Shape              Param #   \n",
      "=================================================================\n",
      " batch_normalization (BatchN  (None, 31)               124       \n",
      " ormalization)                                                   \n",
      "                                                                 \n",
      " dense (Dense)               (None, 991)               31712     \n",
      "                                                                 \n",
      " batch_normalization_1 (Batc  (None, 991)              3964      \n",
      " hNormalization)                                                 \n",
      "                                                                 \n",
      " dense_1 (Dense)             (None, 536)               531712    \n",
      "                                                                 \n",
      " batch_normalization_2 (Batc  (None, 536)              2144      \n",
      " hNormalization)                                                 \n",
      "                                                                 \n",
      " dense_2 (Dense)             (None, 861)               462357    \n",
      "                                                                 \n",
      " batch_normalization_3 (Batc  (None, 861)              3444      \n",
      " hNormalization)                                                 \n",
      "                                                                 \n",
      " dense_3 (Dense)             (None, 891)               768042    \n",
      "                                                                 \n",
      " batch_normalization_4 (Batc  (None, 891)              3564      \n",
      " hNormalization)                                                 \n",
      "                                                                 \n",
      " dense_4 (Dense)             (None, 1)                 892       \n",
      "                                                                 \n",
      "=================================================================\n",
      "Total params: 1,807,955\n",
      "Trainable params: 1,801,335\n",
      "Non-trainable params: 6,620\n",
      "_________________________________________________________________\n",
      "0 <keras.layers.normalization.batch_normalization.BatchNormalization object at 0x0000017A3FD7FAF0>\n",
      "   no activation attribute\n",
      "1 <keras.layers.core.dense.Dense object at 0x0000017A3FD28760>\n",
      "     <function relu at 0x0000017A362C6820>\n",
      "2 <keras.layers.normalization.batch_normalization.BatchNormalization object at 0x0000017A420C2CD0>\n",
      "   no activation attribute\n",
      "3 <keras.layers.core.dense.Dense object at 0x0000017A3FE24940>\n",
      "     <function selu at 0x0000017A362C6160>\n",
      "4 <keras.layers.normalization.batch_normalization.BatchNormalization object at 0x0000017A3FD280D0>\n",
      "   no activation attribute\n",
      "5 <keras.layers.core.dense.Dense object at 0x0000017A3FD407C0>\n",
      "     <function relu at 0x0000017A362C6820>\n",
      "6 <keras.layers.normalization.batch_normalization.BatchNormalization object at 0x0000017A400C23A0>\n",
      "   no activation attribute\n",
      "7 <keras.layers.core.dense.Dense object at 0x0000017A3FDE17C0>\n",
      "     <function relu at 0x0000017A362C6820>\n",
      "8 <keras.layers.normalization.batch_normalization.BatchNormalization object at 0x0000017A3FE6DAC0>\n",
      "   no activation attribute\n",
      "9 <keras.layers.core.dense.Dense object at 0x0000017A3FD0D460>\n",
      "     <function selu at 0x0000017A362C6160>\n",
      "INFO:tensorflow:Assets written to: C:\\Users\\Guilherme\\AppData\\Local\\Temp\\tmpn14slldr\\assets\n"
     ]
    },
    {
     "ename": "ValueError",
     "evalue": "Cannot set tensor: Got value of type FLOAT64 but expected type FLOAT32 for input 0, name: serving_default_batch_normalization_input:0 ",
     "output_type": "error",
     "traceback": [
      "\u001b[1;31m---------------------------------------------------------------------------\u001b[0m",
      "\u001b[1;31mValueError\u001b[0m                                Traceback (most recent call last)",
      "Input \u001b[1;32mIn [20]\u001b[0m, in \u001b[0;36m<cell line: 1>\u001b[1;34m()\u001b[0m\n\u001b[1;32m----> 1\u001b[0m \u001b[43mTest_lite\u001b[49m\u001b[43m(\u001b[49m\u001b[43mX_train\u001b[49m\u001b[43m,\u001b[49m\u001b[43my_train\u001b[49m\u001b[43m,\u001b[49m\u001b[38;5;124;43m'\u001b[39;49m\u001b[38;5;124;43mQc [W]\u001b[39;49m\u001b[38;5;124;43m'\u001b[39;49m\u001b[43m,\u001b[49m\u001b[43mScaller\u001b[49m\u001b[43m)\u001b[49m\n",
      "Input \u001b[1;32mIn [14]\u001b[0m, in \u001b[0;36mTest_lite\u001b[1;34m(X_train, y_train, Obj, Scal)\u001b[0m\n\u001b[0;32m     24\u001b[0m Train_Lite \u001b[38;5;241m=\u001b[39m []\n\u001b[0;32m     25\u001b[0m \u001b[38;5;28;01mfor\u001b[39;00m i \u001b[38;5;129;01min\u001b[39;00m \u001b[38;5;28mrange\u001b[39m(np\u001b[38;5;241m.\u001b[39mshape(X_train)[\u001b[38;5;241m0\u001b[39m]):\n\u001b[1;32m---> 26\u001b[0m     \u001b[43minterpreter\u001b[49m\u001b[38;5;241;43m.\u001b[39;49m\u001b[43mset_tensor\u001b[49m\u001b[43m(\u001b[49m\u001b[43minput_index\u001b[49m\u001b[43m,\u001b[49m\u001b[43m \u001b[49m\u001b[43mScaller\u001b[49m\u001b[38;5;241;43m.\u001b[39;49m\u001b[43mtransform\u001b[49m\u001b[43m(\u001b[49m\u001b[43mX_train\u001b[49m\u001b[43m)\u001b[49m\u001b[43m[\u001b[49m\u001b[43mi\u001b[49m\u001b[43m]\u001b[49m\u001b[38;5;241;43m.\u001b[39;49m\u001b[43mreshape\u001b[49m\u001b[43m(\u001b[49m\u001b[38;5;241;43m-\u001b[39;49m\u001b[38;5;241;43m1\u001b[39;49m\u001b[43m,\u001b[49m\u001b[38;5;241;43m1\u001b[39;49m\u001b[43m)\u001b[49m\u001b[38;5;241;43m.\u001b[39;49m\u001b[43mT\u001b[49m\u001b[43m)\u001b[49m\n\u001b[0;32m     27\u001b[0m     interpreter\u001b[38;5;241m.\u001b[39minvoke()\n\u001b[0;32m     28\u001b[0m     Train_Lite\u001b[38;5;241m.\u001b[39mappend(interpreter\u001b[38;5;241m.\u001b[39mget_tensor(output_index)[\u001b[38;5;241m0\u001b[39m][\u001b[38;5;241m0\u001b[39m])\n",
      "File \u001b[1;32m~\\Anaconda3\\lib\\site-packages\\tensorflow\\lite\\python\\interpreter.py:697\u001b[0m, in \u001b[0;36mInterpreter.set_tensor\u001b[1;34m(self, tensor_index, value)\u001b[0m\n\u001b[0;32m    681\u001b[0m \u001b[38;5;28;01mdef\u001b[39;00m \u001b[38;5;21mset_tensor\u001b[39m(\u001b[38;5;28mself\u001b[39m, tensor_index, value):\n\u001b[0;32m    682\u001b[0m   \u001b[38;5;124;03m\"\"\"Sets the value of the input tensor.\u001b[39;00m\n\u001b[0;32m    683\u001b[0m \n\u001b[0;32m    684\u001b[0m \u001b[38;5;124;03m  Note this copies data in `value`.\u001b[39;00m\n\u001b[1;32m   (...)\u001b[0m\n\u001b[0;32m    695\u001b[0m \u001b[38;5;124;03m    ValueError: If the interpreter could not set the tensor.\u001b[39;00m\n\u001b[0;32m    696\u001b[0m \u001b[38;5;124;03m  \"\"\"\u001b[39;00m\n\u001b[1;32m--> 697\u001b[0m   \u001b[38;5;28;43mself\u001b[39;49m\u001b[38;5;241;43m.\u001b[39;49m\u001b[43m_interpreter\u001b[49m\u001b[38;5;241;43m.\u001b[39;49m\u001b[43mSetTensor\u001b[49m\u001b[43m(\u001b[49m\u001b[43mtensor_index\u001b[49m\u001b[43m,\u001b[49m\u001b[43m \u001b[49m\u001b[43mvalue\u001b[49m\u001b[43m)\u001b[49m\n",
      "\u001b[1;31mValueError\u001b[0m: Cannot set tensor: Got value of type FLOAT64 but expected type FLOAT32 for input 0, name: serving_default_batch_normalization_input:0 "
     ]
    }
   ],
   "source": [
    "Test_lite(X_train,y_train,'Qc [W]',Scaller)"
   ]
  }
 ],
 "metadata": {
  "kernelspec": {
   "display_name": "Python 3.10.4 ('GitHub')",
   "language": "python",
   "name": "python3"
  },
  "language_info": {
   "codemirror_mode": {
    "name": "ipython",
    "version": 3
   },
   "file_extension": ".py",
   "mimetype": "text/x-python",
   "name": "python",
   "nbconvert_exporter": "python",
   "pygments_lexer": "ipython3",
   "version": "3.10.4"
  },
  "vscode": {
   "interpreter": {
    "hash": "49092e02b18401b1d3266a3075e81ab5c6d761d09d7386a3dd0354f0c20fd442"
   }
  }
 },
 "nbformat": 4,
 "nbformat_minor": 5
}
